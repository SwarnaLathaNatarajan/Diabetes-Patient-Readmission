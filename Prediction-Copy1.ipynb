{
 "cells": [
  {
   "cell_type": "code",
   "execution_count": 19,
   "metadata": {},
   "outputs": [
    {
     "data": {
      "text/html": [
       "        <script type=\"text/javascript\">\n",
       "        window.PlotlyConfig = {MathJaxConfig: 'local'};\n",
       "        if (window.MathJax) {MathJax.Hub.Config({SVG: {font: \"STIX-Web\"}});}\n",
       "        if (typeof require !== 'undefined') {\n",
       "        require.undef(\"plotly\");\n",
       "        requirejs.config({\n",
       "            paths: {\n",
       "                'plotly': ['https://cdn.plot.ly/plotly-latest.min']\n",
       "            }\n",
       "        });\n",
       "        require(['plotly'], function(Plotly) {\n",
       "            window._Plotly = Plotly;\n",
       "        });\n",
       "        }\n",
       "        </script>\n",
       "        "
      ]
     },
     "metadata": {},
     "output_type": "display_data"
    }
   ],
   "source": [
    "import numpy as np\n",
    "import pandas as pd\n",
    "\n",
    "# Visualization\n",
    "import matplotlib.pyplot as plt\n",
    "import seaborn as sns\n",
    "import IPython.display as ipd\n",
    "#import librosa.display\n",
    "\n",
    "import plotly.offline as py\n",
    "py.init_notebook_mode(connected=True)\n",
    "import plotly.graph_objs as go\n",
    "import plotly.tools as tls\n",
    "import pandas as pd\n"
   ]
  },
  {
   "cell_type": "code",
   "execution_count": 20,
   "metadata": {},
   "outputs": [
    {
     "data": {
      "text/plain": [
       "(101766, 50)"
      ]
     },
     "execution_count": 20,
     "metadata": {},
     "output_type": "execute_result"
    }
   ],
   "source": [
    "data = pd.read_csv(\"./diabetic_data.csv\")\n",
    "\n",
    "data.replace('?',np.nan,inplace=True)\n",
    "data.shape"
   ]
  },
  {
   "cell_type": "code",
   "execution_count": 3,
   "metadata": {},
   "outputs": [
    {
     "data": {
      "text/plain": [
       "(101766, 52)"
      ]
     },
     "execution_count": 3,
     "metadata": {},
     "output_type": "execute_result"
    }
   ],
   "source": [
    "data[\"race_age_gender\"] = data[\"race\"].map(str) + data[\"gender\"].map(str) + data[\"age\"].map(str)\n",
    "data[\"num_medications\" + \"_log\"] = np.log(data[\"num_medications\"])\n",
    "data.shape"
   ]
  },
  {
   "cell_type": "code",
   "execution_count": 4,
   "metadata": {},
   "outputs": [
    {
     "data": {
      "text/plain": [
       "(96446, 52)"
      ]
     },
     "execution_count": 4,
     "metadata": {},
     "output_type": "execute_result"
    }
   ],
   "source": [
    "drop_Idx = set(data[(data['diag_1'] == '?') & (data['diag_2'] == '?') & (data['diag_3'] == '?')].index)\n",
    "\n",
    "drop_Idx = drop_Idx.union(set(data['diag_1'][data['diag_1'] == '?'].index))\n",
    "drop_Idx = drop_Idx.union(set(data['diag_2'][data['diag_2'] == '?'].index))\n",
    "drop_Idx = drop_Idx.union(set(data['diag_3'][data['diag_3'] == '?'].index))\n",
    "drop_Idx = drop_Idx.union(set(data['race'][data['race'] == '?'].index))\n",
    "drop_Idx = drop_Idx.union(set(data[data['discharge_disposition_id'] == 11].index))\n",
    "drop_Idx = drop_Idx.union(set(data['gender'][data['gender'] == 'Unknown/Invalid'].index))\n",
    "new_Idx = list(set(data.index) - set(drop_Idx))\n",
    "data = data.iloc[new_Idx]\n",
    "data.shape"
   ]
  },
  {
   "cell_type": "code",
   "execution_count": 5,
   "metadata": {},
   "outputs": [],
   "source": [
    "# re-encoding admission type, discharge type and admission source into fewer categories\n",
    "\n",
    "data['admission_type_id'] = data['admission_type_id'].replace(2,1)\n",
    "data['admission_type_id'] = data['admission_type_id'].replace(7,1)\n",
    "data['admission_type_id'] = data['admission_type_id'].replace(6,5)\n",
    "data['admission_type_id'] = data['admission_type_id'].replace(8,5)\n",
    "\n",
    "data['discharge_disposition_id'] = data['discharge_disposition_id'].replace(6,1)\n",
    "data['discharge_disposition_id'] = data['discharge_disposition_id'].replace(8,1)\n",
    "data['discharge_disposition_id'] = data['discharge_disposition_id'].replace(9,1)\n",
    "data['discharge_disposition_id'] = data['discharge_disposition_id'].replace(13,1)\n",
    "data['discharge_disposition_id'] = data['discharge_disposition_id'].replace(3,2)\n",
    "data['discharge_disposition_id'] = data['discharge_disposition_id'].replace(4,2)\n",
    "data['discharge_disposition_id'] = data['discharge_disposition_id'].replace(5,2)\n",
    "data['discharge_disposition_id'] = data['discharge_disposition_id'].replace(14,2)\n",
    "data['discharge_disposition_id'] = data['discharge_disposition_id'].replace(22,2)\n",
    "data['discharge_disposition_id'] = data['discharge_disposition_id'].replace(23,2)\n",
    "data['discharge_disposition_id'] = data['discharge_disposition_id'].replace(24,2)\n",
    "data['discharge_disposition_id'] = data['discharge_disposition_id'].replace(12,10)\n",
    "data['discharge_disposition_id'] = data['discharge_disposition_id'].replace(15,10)\n",
    "data['discharge_disposition_id'] = data['discharge_disposition_id'].replace(16,10)\n",
    "data['discharge_disposition_id'] = data['discharge_disposition_id'].replace(17,10)\n",
    "data['discharge_disposition_id'] = data['discharge_disposition_id'].replace(25,18)\n",
    "data['discharge_disposition_id'] = data['discharge_disposition_id'].replace(26,18)\n",
    "\n",
    "data['admission_source_id'] = data['admission_source_id'].replace(2,1)\n",
    "data['admission_source_id'] = data['admission_source_id'].replace(3,1)\n",
    "data['admission_source_id'] = data['admission_source_id'].replace(5,4)\n",
    "data['admission_source_id'] = data['admission_source_id'].replace(6,4)\n",
    "data['admission_source_id'] = data['admission_source_id'].replace(10,4)\n",
    "data['admission_source_id'] = data['admission_source_id'].replace(22,4)\n",
    "data['admission_source_id'] = data['admission_source_id'].replace(25,4)\n",
    "data['admission_source_id'] = data['admission_source_id'].replace(15,9)\n",
    "data['admission_source_id'] = data['admission_source_id'].replace(17,9)\n",
    "data['admission_source_id'] = data['admission_source_id'].replace(20,9)\n",
    "data['admission_source_id'] = data['admission_source_id'].replace(21,9)\n",
    "data['admission_source_id'] = data['admission_source_id'].replace(13,11)\n",
    "data['admission_source_id'] = data['admission_source_id'].replace(14,11)"
   ]
  },
  {
   "cell_type": "code",
   "execution_count": 6,
   "metadata": {},
   "outputs": [],
   "source": [
    "data['A1Cresult'] = data['A1Cresult'].replace('>7', 1)\n",
    "data['A1Cresult'] = data['A1Cresult'].replace('>8', 1)\n",
    "data['A1Cresult'] = data['A1Cresult'].replace('Norm', 0)\n",
    "data['A1Cresult'] = data['A1Cresult'].replace('None', -99)\n",
    "data['max_glu_serum'] = data['max_glu_serum'].replace('>200', 1)\n",
    "data['max_glu_serum'] = data['max_glu_serum'].replace('>300', 1)\n",
    "data['max_glu_serum'] = data['max_glu_serum'].replace('Norm', 0)\n",
    "data['max_glu_serum'] = data['max_glu_serum'].replace('None', -99)"
   ]
  },
  {
   "cell_type": "code",
   "execution_count": 7,
   "metadata": {},
   "outputs": [],
   "source": [
    "data['level1_diag1'] = data['diag_1']\n",
    "data['level2_diag1'] = data['diag_1']\n",
    "data['level1_diag2'] = data['diag_2']\n",
    "data['level2_diag2'] = data['diag_2']\n",
    "data['level1_diag3'] = data['diag_3']\n",
    "data['level2_diag3'] = data['diag_3']\n",
    "\n",
    "data.loc[data['diag_1'].str.contains('V'), ['level1_diag1', 'level2_diag1']] = 0\n",
    "data.loc[data['diag_1'].str.contains('E'), ['level1_diag1', 'level2_diag1']] = 0\n",
    "data.loc[data['diag_2'].str.contains('V'), ['level1_diag2', 'level2_diag2']] = 0\n",
    "data.loc[data['diag_2'].str.contains('E'), ['level1_diag2', 'level2_diag2']] = 0\n",
    "data.loc[data['diag_3'].str.contains('V'), ['level1_diag3', 'level2_diag3']] = 0\n",
    "data.loc[data['diag_3'].str.contains('E'), ['level1_diag3', 'level2_diag3']] = 0\n",
    "data['level1_diag1'] = data['level1_diag1'].replace('?', -1)\n",
    "data['level2_diag1'] = data['level2_diag1'].replace('?', -1)\n",
    "data['level1_diag2'] = data['level1_diag2'].replace('?', -1)\n",
    "data['level2_diag2'] = data['level2_diag2'].replace('?', -1)\n",
    "data['level1_diag3'] = data['level1_diag3'].replace('?', -1)\n",
    "data['level2_diag3'] = data['level2_diag3'].replace('?', -1)\n",
    "\n",
    "data['level1_diag1'] = data['level1_diag1'].astype(float)\n",
    "data['level2_diag1'] = data['level2_diag1'].astype(float)\n",
    "data['level1_diag2'] = data['level1_diag2'].astype(float)\n",
    "data['level2_diag2'] = data['level2_diag2'].astype(float)\n",
    "data['level1_diag3'] = data['level1_diag3'].astype(float)\n",
    "data['level2_diag3'] = data['level2_diag3'].astype(float)\n",
    "\n"
   ]
  },
  {
   "cell_type": "code",
   "execution_count": 8,
   "metadata": {},
   "outputs": [],
   "source": [
    "for index, row in data.iterrows():\n",
    "    if (row['level1_diag1'] >= 390 and row['level1_diag1'] < 460) or (np.floor(row['level1_diag1']) == 785):\n",
    "        data.loc[index, 'level1_diag1'] = 1\n",
    "    elif (row['level1_diag1'] >= 460 and row['level1_diag1'] < 520) or (np.floor(row['level1_diag1']) == 786):\n",
    "        data.loc[index, 'level1_diag1'] = 2\n",
    "    elif (row['level1_diag1'] >= 520 and row['level1_diag1'] < 580) or (np.floor(row['level1_diag1']) == 787):\n",
    "        data.loc[index, 'level1_diag1'] = 3\n",
    "    elif (np.floor(row['level1_diag1']) == 250):\n",
    "        data.loc[index, 'level1_diag1'] = 4\n",
    "    elif (row['level1_diag1'] >= 800 and row['level1_diag1'] < 1000):\n",
    "        data.loc[index, 'level1_diag1'] = 5\n",
    "    elif (row['level1_diag1'] >= 710 and row['level1_diag1'] < 740):\n",
    "        data.loc[index, 'level1_diag1'] = 6\n",
    "    elif (row['level1_diag1'] >= 580 and row['level1_diag1'] < 630) or (np.floor(row['level1_diag1']) == 788):\n",
    "        data.loc[index, 'level1_diag1'] = 7\n",
    "    elif (row['level1_diag1'] >= 140 and row['level1_diag1'] < 240):\n",
    "        data.loc[index, 'level1_diag1'] = 8\n",
    "    else:\n",
    "        data.loc[index, 'level1_diag1'] = 0\n",
    "        \n",
    "    if (row['level1_diag2'] >= 390 and row['level1_diag2'] < 460) or (np.floor(row['level1_diag2']) == 785):\n",
    "        data.loc[index, 'level1_diag2'] = 1\n",
    "    elif (row['level1_diag2'] >= 460 and row['level1_diag2'] < 520) or (np.floor(row['level1_diag2']) == 786):\n",
    "        data.loc[index, 'level1_diag2'] = 2\n",
    "    elif (row['level1_diag2'] >= 520 and row['level1_diag2'] < 580) or (np.floor(row['level1_diag2']) == 787):\n",
    "        data.loc[index, 'level1_diag2'] = 3\n",
    "    elif (np.floor(row['level1_diag2']) == 250):\n",
    "        data.loc[index, 'level1_diag2'] = 4\n",
    "    elif (row['level1_diag2'] >= 800 and row['level1_diag2'] < 1000):\n",
    "        data.loc[index, 'level1_diag2'] = 5\n",
    "    elif (row['level1_diag2'] >= 710 and row['level1_diag2'] < 740):\n",
    "        data.loc[index, 'level1_diag2'] = 6\n",
    "    elif (row['level1_diag2'] >= 580 and row['level1_diag2'] < 630) or (np.floor(row['level1_diag2']) == 788):\n",
    "        data.loc[index, 'level1_diag2'] = 7\n",
    "    elif (row['level1_diag2'] >= 140 and row['level1_diag2'] < 240):\n",
    "        data.loc[index, 'level1_diag2'] = 8\n",
    "    else:\n",
    "        data.loc[index, 'level1_diag2'] = 0\n",
    "    \n",
    "    if (row['level1_diag3'] >= 390 and row['level1_diag3'] < 460) or (np.floor(row['level1_diag3']) == 785):\n",
    "        data.loc[index, 'level1_diag3'] = 1\n",
    "    elif (row['level1_diag3'] >= 460 and row['level1_diag3'] < 520) or (np.floor(row['level1_diag3']) == 786):\n",
    "        data.loc[index, 'level1_diag3'] = 2\n",
    "    elif (row['level1_diag3'] >= 520 and row['level1_diag3'] < 580) or (np.floor(row['level1_diag3']) == 787):\n",
    "        data.loc[index, 'level1_diag3'] = 3\n",
    "    elif (np.floor(row['level1_diag3']) == 250):\n",
    "        data.loc[index, 'level1_diag3'] = 4\n",
    "    elif (row['level1_diag3'] >= 800 and row['level1_diag3'] < 1000):\n",
    "        data.loc[index, 'level1_diag3'] = 5\n",
    "    elif (row['level1_diag3'] >= 710 and row['level1_diag3'] < 740):\n",
    "        data.loc[index, 'level1_diag3'] = 6\n",
    "    elif (row['level1_diag3'] >= 580 and row['level1_diag3'] < 630) or (np.floor(row['level1_diag3']) == 788):\n",
    "        data.loc[index, 'level1_diag3'] = 7\n",
    "    elif (row['level1_diag3'] >= 140 and row['level1_diag3'] < 240):\n",
    "        data.loc[index, 'level1_diag3'] = 8\n",
    "    else:\n",
    "        data.loc[index, 'level1_diag3'] = 0"
   ]
  },
  {
   "cell_type": "code",
   "execution_count": 9,
   "metadata": {},
   "outputs": [],
   "source": [
    "for index, row in data.iterrows():\n",
    "    if (row['level2_diag1'] >= 390 and row['level2_diag1'] < 399):\n",
    "        data.loc[index, 'level2_diag1'] = 1\n",
    "    elif (row['level2_diag1'] >= 401 and row['level2_diag1'] < 415):\n",
    "        data.loc[index, 'level2_diag1'] = 2\n",
    "    elif (row['level2_diag1'] >= 415 and row['level2_diag1'] < 460):\n",
    "        data.loc[index, 'level2_diag1'] = 3\n",
    "    elif (np.floor(row['level2_diag1']) == 785):\n",
    "        data.loc[index, 'level2_diag1'] = 4\n",
    "    elif (row['level2_diag1'] >= 460 and row['level2_diag1'] < 489):\n",
    "        data.loc[index, 'level2_diag1'] = 5\n",
    "    elif (row['level2_diag1'] >= 490 and row['level2_diag1'] < 497):\n",
    "        data.loc[index, 'level2_diag1'] = 6\n",
    "    elif (row['level2_diag1'] >= 500 and row['level2_diag1'] < 520):\n",
    "        data.loc[index, 'level2_diag1'] = 7\n",
    "    elif (np.floor(row['level2_diag1']) == 786):\n",
    "        data.loc[index, 'level2_diag1'] = 8\n",
    "    elif (row['level2_diag1'] >= 520 and row['level2_diag1'] < 530):\n",
    "        data.loc[index, 'level2_diag1'] = 9\n",
    "    elif (row['level2_diag1'] >= 530 and row['level2_diag1'] < 544):\n",
    "        data.loc[index, 'level2_diag1'] = 10\n",
    "    elif (row['level2_diag1'] >= 550 and row['level2_diag1'] < 554):\n",
    "        data.loc[index, 'level2_diag1'] = 11\n",
    "    elif (row['level2_diag1'] >= 555 and row['level2_diag1'] < 580):\n",
    "        data.loc[index, 'level2_diag1'] = 12\n",
    "    elif (np.floor(row['level2_diag1']) == 787):\n",
    "        data.loc[index, 'level2_diag1'] = 13\n",
    "    elif (np.floor(row['level2_diag1']) == 250):\n",
    "        data.loc[index, 'level2_diag1'] = 14\n",
    "    elif (row['level2_diag1'] >= 800 and row['level2_diag1'] < 1000):\n",
    "        data.loc[index, 'level2_diag1'] = 15\n",
    "    elif (row['level2_diag1'] >= 710 and row['level2_diag1'] < 740):\n",
    "        data.loc[index, 'level2_diag1'] = 16\n",
    "    elif (row['level2_diag1'] >= 580 and row['level2_diag1'] < 630):\n",
    "        data.loc[index, 'level2_diag1'] = 17\n",
    "    elif (np.floor(row['level2_diag1']) == 788):\n",
    "        data.loc[index, 'level2_diag1'] = 18\n",
    "    elif (row['level2_diag1'] >= 140 and row['level2_diag1'] < 240):\n",
    "        data.loc[index, 'level2_diag1'] = 19\n",
    "    elif row['level2_diag1'] >= 240 and row['level2_diag1'] < 280 and (np.floor(row['level2_diag1']) != 250):\n",
    "        data.loc[index, 'level2_diag1'] = 20\n",
    "    elif (row['level2_diag1'] >= 680 and row['level2_diag1'] < 710) or (np.floor(row['level2_diag1']) == 782):\n",
    "        data.loc[index, 'level2_diag1'] = 21\n",
    "    elif (row['level2_diag1'] >= 290 and row['level2_diag1'] < 320):\n",
    "        data.loc[index, 'level2_diag1'] = 22\n",
    "    else:\n",
    "        data.loc[index, 'level2_diag1'] = 0\n",
    "        \n",
    "    if (row['level2_diag2'] >= 390 and row['level2_diag2'] < 399):\n",
    "        data.loc[index, 'level2_diag2'] = 1\n",
    "    elif (row['level2_diag2'] >= 401 and row['level2_diag2'] < 415):\n",
    "        data.loc[index, 'level2_diag2'] = 2\n",
    "    elif (row['level2_diag2'] >= 415 and row['level2_diag2'] < 460):\n",
    "        data.loc[index, 'level2_diag2'] = 3\n",
    "    elif (np.floor(row['level2_diag2']) == 785):\n",
    "        data.loc[index, 'level2_diag2'] = 4\n",
    "    elif (row['level2_diag2'] >= 460 and row['level2_diag2'] < 489):\n",
    "        data.loc[index, 'level2_diag2'] = 5\n",
    "    elif (row['level2_diag2'] >= 490 and row['level2_diag2'] < 497):\n",
    "        data.loc[index, 'level2_diag2'] = 6\n",
    "    elif (row['level2_diag2'] >= 500 and row['level2_diag2'] < 520):\n",
    "        data.loc[index, 'level2_diag2'] = 7\n",
    "    elif (np.floor(row['level2_diag2']) == 786):\n",
    "        data.loc[index, 'level2_diag2'] = 8\n",
    "    elif (row['level2_diag2'] >= 520 and row['level2_diag2'] < 530):\n",
    "        data.loc[index, 'level2_diag2'] = 9\n",
    "    elif (row['level2_diag2'] >= 530 and row['level2_diag2'] < 544):\n",
    "        data.loc[index, 'level2_diag2'] = 10\n",
    "    elif (row['level2_diag2'] >= 550 and row['level2_diag2'] < 554):\n",
    "        data.loc[index, 'level2_diag2'] = 11\n",
    "    elif (row['level2_diag2'] >= 555 and row['level2_diag2'] < 580):\n",
    "        data.loc[index, 'level2_diag2'] = 12\n",
    "    elif (np.floor(row['level2_diag2']) == 787):\n",
    "        data.loc[index, 'level2_diag2'] = 13\n",
    "    elif (np.floor(row['level2_diag2']) == 250):\n",
    "        data.loc[index, 'level2_diag2'] = 14\n",
    "    elif (row['level2_diag2'] >= 800 and row['level2_diag2'] < 1000):\n",
    "        data.loc[index, 'level2_diag2'] = 15\n",
    "    elif (row['level2_diag2'] >= 710 and row['level2_diag2'] < 740):\n",
    "        data.loc[index, 'level2_diag2'] = 16\n",
    "    elif (row['level2_diag2'] >= 580 and row['level2_diag2'] < 630):\n",
    "        data.loc[index, 'level2_diag2'] = 17\n",
    "    elif (np.floor(row['level2_diag2']) == 788):\n",
    "        data.loc[index, 'level2_diag2'] = 18\n",
    "    elif (row['level2_diag2'] >= 140 and row['level2_diag2'] < 240):\n",
    "        data.loc[index, 'level2_diag2'] = 19\n",
    "    elif row['level2_diag2'] >= 240 and row['level2_diag2'] < 280 and (np.floor(row['level2_diag2']) != 250):\n",
    "        data.loc[index, 'level2_diag2'] = 20\n",
    "    elif (row['level2_diag2'] >= 680 and row['level2_diag2'] < 710) or (np.floor(row['level2_diag2']) == 782):\n",
    "        data.loc[index, 'level2_diag2'] = 21\n",
    "    elif (row['level2_diag2'] >= 290 and row['level2_diag2'] < 320):\n",
    "        data.loc[index, 'level2_diag2'] = 22\n",
    "    else:\n",
    "        data.loc[index, 'level2_diag2'] = 0\n",
    "        \n",
    "        \n",
    "    if (row['level2_diag3'] >= 390 and row['level2_diag3'] < 399):\n",
    "        data.loc[index, 'level2_diag3'] = 1\n",
    "    elif (row['level2_diag3'] >= 401 and row['level2_diag3'] < 415):\n",
    "        data.loc[index, 'level2_diag3'] = 2\n",
    "    elif (row['level2_diag3'] >= 415 and row['level2_diag3'] < 460):\n",
    "        data.loc[index, 'level2_diag3'] = 3\n",
    "    elif (np.floor(row['level2_diag3']) == 785):\n",
    "        data.loc[index, 'level2_diag3'] = 4\n",
    "    elif (row['level2_diag3'] >= 460 and row['level2_diag3'] < 489):\n",
    "        data.loc[index, 'level2_diag3'] = 5\n",
    "    elif (row['level2_diag3'] >= 490 and row['level2_diag3'] < 497):\n",
    "        data.loc[index, 'level2_diag3'] = 6\n",
    "    elif (row['level2_diag3'] >= 500 and row['level2_diag3'] < 520):\n",
    "        data.loc[index, 'level2_diag3'] = 7\n",
    "    elif (np.floor(row['level2_diag3']) == 786):\n",
    "        data.loc[index, 'level2_diag3'] = 8\n",
    "    elif (row['level2_diag3'] >= 520 and row['level2_diag3'] < 530):\n",
    "        data.loc[index, 'level2_diag3'] = 9\n",
    "    elif (row['level2_diag3'] >= 530 and row['level2_diag3'] < 544):\n",
    "        data.loc[index, 'level2_diag3'] = 10\n",
    "    elif (row['level2_diag3'] >= 550 and row['level2_diag3'] < 554):\n",
    "        data.loc[index, 'level2_diag3'] = 11\n",
    "    elif (row['level2_diag3'] >= 555 and row['level2_diag3'] < 580):\n",
    "        data.loc[index, 'level2_diag3'] = 12\n",
    "    elif (np.floor(row['level2_diag3']) == 787):\n",
    "        data.loc[index, 'level2_diag3'] = 13\n",
    "    elif (np.floor(row['level2_diag3']) == 250):\n",
    "        data.loc[index, 'level2_diag3'] = 14\n",
    "    elif (row['level2_diag3'] >= 800 and row['level2_diag3'] < 1000):\n",
    "        data.loc[index, 'level2_diag3'] = 15\n",
    "    elif (row['level2_diag3'] >= 710 and row['level2_diag3'] < 740):\n",
    "        data.loc[index, 'level2_diag3'] = 16\n",
    "    elif (row['level2_diag3'] >= 580 and row['level2_diag3'] < 630):\n",
    "        data.loc[index, 'level2_diag3'] = 17\n",
    "    elif (np.floor(row['level2_diag3']) == 788):\n",
    "        data.loc[index, 'level2_diag3'] = 18\n",
    "    elif (row['level2_diag3'] >= 140 and row['level2_diag3'] < 240):\n",
    "        data.loc[index, 'level2_diag3'] = 19\n",
    "    elif row['level2_diag3'] >= 240 and row['level2_diag3'] < 280 and (np.floor(row['level2_diag3']) != 250):\n",
    "        data.loc[index, 'level2_diag3'] = 20\n",
    "    elif (row['level2_diag3'] >= 680 and row['level2_diag3'] < 710) or (np.floor(row['level2_diag3']) == 782):\n",
    "        data.loc[index, 'level2_diag3'] = 21\n",
    "    elif (row['level2_diag3'] >= 290 and row['level2_diag3'] < 320):\n",
    "        data.loc[index, 'level2_diag3'] = 22\n",
    "    else:\n",
    "        data.loc[index, 'level2_diag3'] = 0"
   ]
  },
  {
   "cell_type": "code",
   "execution_count": 71,
   "metadata": {},
   "outputs": [
    {
     "data": {
      "text/plain": [
       "(96446, 58)"
      ]
     },
     "execution_count": 71,
     "metadata": {},
     "output_type": "execute_result"
    }
   ],
   "source": [
    "data.shape"
   ]
  },
  {
   "cell_type": "code",
   "execution_count": 53,
   "metadata": {},
   "outputs": [],
   "source": [
    "from math import log10\n",
    "class ExploratoryDataAnalysis:\n",
    "    def __init__(self,data):\n",
    "        self.data = data\n",
    "    \n",
    "    def get_feature_class_count(self,col):\n",
    "        count_map = {}\n",
    "        for x in col:\n",
    "            if(x in count_map):\n",
    "                count_map[x] = count_map[x] + 1\n",
    "            else:\n",
    "                count_map[x] = 1\n",
    "\n",
    "        return log10(len(count_map))\n",
    "    \n",
    "    def get_missing_counts(self,col):\n",
    "        return len(col) - col.count()\n",
    "    \n",
    "    def plot_class_counts(self,plot_missing_feature_count = False):\n",
    "        class_counts = [self.get_feature_class_count(self.data[column]) for column in self.data]\n",
    "        data = [go.Histogram(x=self.data.columns, y=class_counts)]\n",
    "        trace = go.Bar(\n",
    "            x=self.data.columns,\n",
    "            y=class_counts\n",
    "        )\n",
    "        layout = go.Layout(\n",
    "            title='Feature counts | Total number of rows=' + str(len(self.data)),\n",
    "            xaxis = dict(title='Features'),\n",
    "            yaxis = dict(title='Log(Number of unique values)')\n",
    "        )\n",
    "        py.iplot(go.Figure(data=[trace], layout=layout))\n",
    "    \n",
    "    def plot_class_count(self):\n",
    "        count_NO = 0\n",
    "        count_less_30 = 0\n",
    "        for x in self.data[\"readmitted\"]:\n",
    "            if(x == \"NO\"):\n",
    "                count_NO = count_NO + 1\n",
    "            elif (x == \"<30\"):\n",
    "                count_less_30 = count_less_30 + 1\n",
    "\n",
    "        trace = go.Bar(\n",
    "            x=[\">30\",\"<30\",\"NO\"],\n",
    "            y=[(len(self.data) - count_NO  - count_less_30),count_less_30,count_NO]\n",
    "        )\n",
    "        layout = go.Layout(\n",
    "            title='Class counts | Total number of rows=' + str(len(self.data)),\n",
    "            xaxis = dict(title='Features'),\n",
    "            yaxis = dict(title='Log(Number of unique values)')\n",
    "        )\n",
    "        py.iplot(go.Figure(data=[trace], layout=layout))\n",
    "        \n",
    "    def plot_missing_count(self):\n",
    "        class_counts = [len(self.data[column]) for column in self.data]\n",
    "        missing_counts = [self.get_missing_counts(self.data[column]) for column in self.data]\n",
    "        data = [go.Histogram(x=self.data.columns, y=class_counts)]\n",
    "        trace = go.Bar(\n",
    "            x=self.data.columns,\n",
    "            y=class_counts\n",
    "        )\n",
    "        trace_missing = go.Bar(\n",
    "            x=self.data.columns,\n",
    "            y=missing_counts\n",
    "        )\n",
    "        layout = go.Layout(\n",
    "            title='Feature counts | Total number of rows=' + str(len(self.data)),\n",
    "            xaxis = dict(title='Features'),\n",
    "            yaxis = dict(title='Log(Number of unique values)')\n",
    "        )\n",
    "        py.iplot(go.Figure(data=[trace,trace_missing], layout=layout))\n",
    "        \n",
    "\n",
    "    "
   ]
  },
  {
   "cell_type": "code",
   "execution_count": 54,
   "metadata": {},
   "outputs": [
    {
     "data": {
      "application/vnd.plotly.v1+json": {
       "config": {
        "linkText": "Export to plot.ly",
        "plotlyServerURL": "https://plot.ly",
        "showLink": false
       },
       "data": [
        {
         "type": "bar",
         "x": [
          "encounter_id",
          "patient_nbr",
          "race",
          "gender",
          "age",
          "weight",
          "admission_type_id",
          "discharge_disposition_id",
          "admission_source_id",
          "time_in_hospital",
          "payer_code",
          "medical_specialty",
          "num_lab_procedures",
          "num_procedures",
          "num_medications",
          "number_outpatient",
          "number_emergency",
          "number_inpatient",
          "diag_1",
          "diag_2",
          "diag_3",
          "number_diagnoses",
          "max_glu_serum",
          "A1Cresult",
          "metformin",
          "repaglinide",
          "nateglinide",
          "chlorpropamide",
          "glimepiride",
          "acetohexamide",
          "glipizide",
          "glyburide",
          "tolbutamide",
          "pioglitazone",
          "rosiglitazone",
          "acarbose",
          "miglitol",
          "troglitazone",
          "tolazamide",
          "examide",
          "citoglipton",
          "insulin",
          "glyburide-metformin",
          "glipizide-metformin",
          "glimepiride-pioglitazone",
          "metformin-rosiglitazone",
          "metformin-pioglitazone",
          "change",
          "diabetesMed",
          "readmitted",
          "race_age_gender",
          "num_medications_log",
          "level1_diag1",
          "level2_diag1",
          "level1_diag2",
          "level2_diag2",
          "level1_diag3",
          "level2_diag3"
         ],
         "y": [
          4.984284220430386,
          4.829818187438877,
          0.6989700043360189,
          0.3010299956639812,
          1,
          1,
          0.6020599913279624,
          0.9542425094393249,
          0.7781512503836436,
          1.146128035678238,
          1.2304489213782739,
          1.863322860120456,
          2.0718820073061255,
          0.8450980400142568,
          1.8750612633917,
          1.591064607026499,
          1.5185139398778875,
          1.3010299956639813,
          2.8524799936368566,
          2.8686444383948255,
          2.8943160626844384,
          1.146128035678238,
          0.47712125471966244,
          0.47712125471966244,
          0.6020599913279624,
          0.6020599913279624,
          0.6020599913279624,
          0.6020599913279624,
          0.6020599913279624,
          0.3010299956639812,
          0.6020599913279624,
          0.6020599913279624,
          0.3010299956639812,
          0.6020599913279624,
          0.6020599913279624,
          0.6020599913279624,
          0.6020599913279624,
          0.3010299956639812,
          0.47712125471966244,
          0,
          0,
          0.6020599913279624,
          0.6020599913279624,
          0.3010299956639812,
          0.3010299956639812,
          0,
          0.3010299956639812,
          0.3010299956639812,
          0.3010299956639812,
          0.47712125471966244,
          1.9777236052888478,
          1.8750612633917,
          0.9542425094393249,
          1.3617278360175928,
          0.9542425094393249,
          1.3617278360175928,
          0.9542425094393249,
          1.3617278360175928
         ]
        }
       ],
       "layout": {
        "template": {
         "data": {
          "bar": [
           {
            "error_x": {
             "color": "#2a3f5f"
            },
            "error_y": {
             "color": "#2a3f5f"
            },
            "marker": {
             "line": {
              "color": "#E5ECF6",
              "width": 0.5
             }
            },
            "type": "bar"
           }
          ],
          "barpolar": [
           {
            "marker": {
             "line": {
              "color": "#E5ECF6",
              "width": 0.5
             }
            },
            "type": "barpolar"
           }
          ],
          "carpet": [
           {
            "aaxis": {
             "endlinecolor": "#2a3f5f",
             "gridcolor": "white",
             "linecolor": "white",
             "minorgridcolor": "white",
             "startlinecolor": "#2a3f5f"
            },
            "baxis": {
             "endlinecolor": "#2a3f5f",
             "gridcolor": "white",
             "linecolor": "white",
             "minorgridcolor": "white",
             "startlinecolor": "#2a3f5f"
            },
            "type": "carpet"
           }
          ],
          "choropleth": [
           {
            "colorbar": {
             "outlinewidth": 0,
             "ticks": ""
            },
            "type": "choropleth"
           }
          ],
          "contour": [
           {
            "colorbar": {
             "outlinewidth": 0,
             "ticks": ""
            },
            "colorscale": [
             [
              0,
              "#0d0887"
             ],
             [
              0.1111111111111111,
              "#46039f"
             ],
             [
              0.2222222222222222,
              "#7201a8"
             ],
             [
              0.3333333333333333,
              "#9c179e"
             ],
             [
              0.4444444444444444,
              "#bd3786"
             ],
             [
              0.5555555555555556,
              "#d8576b"
             ],
             [
              0.6666666666666666,
              "#ed7953"
             ],
             [
              0.7777777777777778,
              "#fb9f3a"
             ],
             [
              0.8888888888888888,
              "#fdca26"
             ],
             [
              1,
              "#f0f921"
             ]
            ],
            "type": "contour"
           }
          ],
          "contourcarpet": [
           {
            "colorbar": {
             "outlinewidth": 0,
             "ticks": ""
            },
            "type": "contourcarpet"
           }
          ],
          "heatmap": [
           {
            "colorbar": {
             "outlinewidth": 0,
             "ticks": ""
            },
            "colorscale": [
             [
              0,
              "#0d0887"
             ],
             [
              0.1111111111111111,
              "#46039f"
             ],
             [
              0.2222222222222222,
              "#7201a8"
             ],
             [
              0.3333333333333333,
              "#9c179e"
             ],
             [
              0.4444444444444444,
              "#bd3786"
             ],
             [
              0.5555555555555556,
              "#d8576b"
             ],
             [
              0.6666666666666666,
              "#ed7953"
             ],
             [
              0.7777777777777778,
              "#fb9f3a"
             ],
             [
              0.8888888888888888,
              "#fdca26"
             ],
             [
              1,
              "#f0f921"
             ]
            ],
            "type": "heatmap"
           }
          ],
          "heatmapgl": [
           {
            "colorbar": {
             "outlinewidth": 0,
             "ticks": ""
            },
            "colorscale": [
             [
              0,
              "#0d0887"
             ],
             [
              0.1111111111111111,
              "#46039f"
             ],
             [
              0.2222222222222222,
              "#7201a8"
             ],
             [
              0.3333333333333333,
              "#9c179e"
             ],
             [
              0.4444444444444444,
              "#bd3786"
             ],
             [
              0.5555555555555556,
              "#d8576b"
             ],
             [
              0.6666666666666666,
              "#ed7953"
             ],
             [
              0.7777777777777778,
              "#fb9f3a"
             ],
             [
              0.8888888888888888,
              "#fdca26"
             ],
             [
              1,
              "#f0f921"
             ]
            ],
            "type": "heatmapgl"
           }
          ],
          "histogram": [
           {
            "marker": {
             "colorbar": {
              "outlinewidth": 0,
              "ticks": ""
             }
            },
            "type": "histogram"
           }
          ],
          "histogram2d": [
           {
            "colorbar": {
             "outlinewidth": 0,
             "ticks": ""
            },
            "colorscale": [
             [
              0,
              "#0d0887"
             ],
             [
              0.1111111111111111,
              "#46039f"
             ],
             [
              0.2222222222222222,
              "#7201a8"
             ],
             [
              0.3333333333333333,
              "#9c179e"
             ],
             [
              0.4444444444444444,
              "#bd3786"
             ],
             [
              0.5555555555555556,
              "#d8576b"
             ],
             [
              0.6666666666666666,
              "#ed7953"
             ],
             [
              0.7777777777777778,
              "#fb9f3a"
             ],
             [
              0.8888888888888888,
              "#fdca26"
             ],
             [
              1,
              "#f0f921"
             ]
            ],
            "type": "histogram2d"
           }
          ],
          "histogram2dcontour": [
           {
            "colorbar": {
             "outlinewidth": 0,
             "ticks": ""
            },
            "colorscale": [
             [
              0,
              "#0d0887"
             ],
             [
              0.1111111111111111,
              "#46039f"
             ],
             [
              0.2222222222222222,
              "#7201a8"
             ],
             [
              0.3333333333333333,
              "#9c179e"
             ],
             [
              0.4444444444444444,
              "#bd3786"
             ],
             [
              0.5555555555555556,
              "#d8576b"
             ],
             [
              0.6666666666666666,
              "#ed7953"
             ],
             [
              0.7777777777777778,
              "#fb9f3a"
             ],
             [
              0.8888888888888888,
              "#fdca26"
             ],
             [
              1,
              "#f0f921"
             ]
            ],
            "type": "histogram2dcontour"
           }
          ],
          "mesh3d": [
           {
            "colorbar": {
             "outlinewidth": 0,
             "ticks": ""
            },
            "type": "mesh3d"
           }
          ],
          "parcoords": [
           {
            "line": {
             "colorbar": {
              "outlinewidth": 0,
              "ticks": ""
             }
            },
            "type": "parcoords"
           }
          ],
          "scatter": [
           {
            "marker": {
             "colorbar": {
              "outlinewidth": 0,
              "ticks": ""
             }
            },
            "type": "scatter"
           }
          ],
          "scatter3d": [
           {
            "line": {
             "colorbar": {
              "outlinewidth": 0,
              "ticks": ""
             }
            },
            "marker": {
             "colorbar": {
              "outlinewidth": 0,
              "ticks": ""
             }
            },
            "type": "scatter3d"
           }
          ],
          "scattercarpet": [
           {
            "marker": {
             "colorbar": {
              "outlinewidth": 0,
              "ticks": ""
             }
            },
            "type": "scattercarpet"
           }
          ],
          "scattergeo": [
           {
            "marker": {
             "colorbar": {
              "outlinewidth": 0,
              "ticks": ""
             }
            },
            "type": "scattergeo"
           }
          ],
          "scattergl": [
           {
            "marker": {
             "colorbar": {
              "outlinewidth": 0,
              "ticks": ""
             }
            },
            "type": "scattergl"
           }
          ],
          "scattermapbox": [
           {
            "marker": {
             "colorbar": {
              "outlinewidth": 0,
              "ticks": ""
             }
            },
            "type": "scattermapbox"
           }
          ],
          "scatterpolar": [
           {
            "marker": {
             "colorbar": {
              "outlinewidth": 0,
              "ticks": ""
             }
            },
            "type": "scatterpolar"
           }
          ],
          "scatterpolargl": [
           {
            "marker": {
             "colorbar": {
              "outlinewidth": 0,
              "ticks": ""
             }
            },
            "type": "scatterpolargl"
           }
          ],
          "scatterternary": [
           {
            "marker": {
             "colorbar": {
              "outlinewidth": 0,
              "ticks": ""
             }
            },
            "type": "scatterternary"
           }
          ],
          "surface": [
           {
            "colorbar": {
             "outlinewidth": 0,
             "ticks": ""
            },
            "colorscale": [
             [
              0,
              "#0d0887"
             ],
             [
              0.1111111111111111,
              "#46039f"
             ],
             [
              0.2222222222222222,
              "#7201a8"
             ],
             [
              0.3333333333333333,
              "#9c179e"
             ],
             [
              0.4444444444444444,
              "#bd3786"
             ],
             [
              0.5555555555555556,
              "#d8576b"
             ],
             [
              0.6666666666666666,
              "#ed7953"
             ],
             [
              0.7777777777777778,
              "#fb9f3a"
             ],
             [
              0.8888888888888888,
              "#fdca26"
             ],
             [
              1,
              "#f0f921"
             ]
            ],
            "type": "surface"
           }
          ],
          "table": [
           {
            "cells": {
             "fill": {
              "color": "#EBF0F8"
             },
             "line": {
              "color": "white"
             }
            },
            "header": {
             "fill": {
              "color": "#C8D4E3"
             },
             "line": {
              "color": "white"
             }
            },
            "type": "table"
           }
          ]
         },
         "layout": {
          "annotationdefaults": {
           "arrowcolor": "#2a3f5f",
           "arrowhead": 0,
           "arrowwidth": 1
          },
          "colorscale": {
           "diverging": [
            [
             0,
             "#8e0152"
            ],
            [
             0.1,
             "#c51b7d"
            ],
            [
             0.2,
             "#de77ae"
            ],
            [
             0.3,
             "#f1b6da"
            ],
            [
             0.4,
             "#fde0ef"
            ],
            [
             0.5,
             "#f7f7f7"
            ],
            [
             0.6,
             "#e6f5d0"
            ],
            [
             0.7,
             "#b8e186"
            ],
            [
             0.8,
             "#7fbc41"
            ],
            [
             0.9,
             "#4d9221"
            ],
            [
             1,
             "#276419"
            ]
           ],
           "sequential": [
            [
             0,
             "#0d0887"
            ],
            [
             0.1111111111111111,
             "#46039f"
            ],
            [
             0.2222222222222222,
             "#7201a8"
            ],
            [
             0.3333333333333333,
             "#9c179e"
            ],
            [
             0.4444444444444444,
             "#bd3786"
            ],
            [
             0.5555555555555556,
             "#d8576b"
            ],
            [
             0.6666666666666666,
             "#ed7953"
            ],
            [
             0.7777777777777778,
             "#fb9f3a"
            ],
            [
             0.8888888888888888,
             "#fdca26"
            ],
            [
             1,
             "#f0f921"
            ]
           ],
           "sequentialminus": [
            [
             0,
             "#0d0887"
            ],
            [
             0.1111111111111111,
             "#46039f"
            ],
            [
             0.2222222222222222,
             "#7201a8"
            ],
            [
             0.3333333333333333,
             "#9c179e"
            ],
            [
             0.4444444444444444,
             "#bd3786"
            ],
            [
             0.5555555555555556,
             "#d8576b"
            ],
            [
             0.6666666666666666,
             "#ed7953"
            ],
            [
             0.7777777777777778,
             "#fb9f3a"
            ],
            [
             0.8888888888888888,
             "#fdca26"
            ],
            [
             1,
             "#f0f921"
            ]
           ]
          },
          "colorway": [
           "#636efa",
           "#EF553B",
           "#00cc96",
           "#ab63fa",
           "#FFA15A",
           "#19d3f3",
           "#FF6692",
           "#B6E880",
           "#FF97FF",
           "#FECB52"
          ],
          "font": {
           "color": "#2a3f5f"
          },
          "geo": {
           "bgcolor": "white",
           "lakecolor": "white",
           "landcolor": "#E5ECF6",
           "showlakes": true,
           "showland": true,
           "subunitcolor": "white"
          },
          "hoverlabel": {
           "align": "left"
          },
          "hovermode": "closest",
          "mapbox": {
           "style": "light"
          },
          "paper_bgcolor": "white",
          "plot_bgcolor": "#E5ECF6",
          "polar": {
           "angularaxis": {
            "gridcolor": "white",
            "linecolor": "white",
            "ticks": ""
           },
           "bgcolor": "#E5ECF6",
           "radialaxis": {
            "gridcolor": "white",
            "linecolor": "white",
            "ticks": ""
           }
          },
          "scene": {
           "xaxis": {
            "backgroundcolor": "#E5ECF6",
            "gridcolor": "white",
            "gridwidth": 2,
            "linecolor": "white",
            "showbackground": true,
            "ticks": "",
            "zerolinecolor": "white"
           },
           "yaxis": {
            "backgroundcolor": "#E5ECF6",
            "gridcolor": "white",
            "gridwidth": 2,
            "linecolor": "white",
            "showbackground": true,
            "ticks": "",
            "zerolinecolor": "white"
           },
           "zaxis": {
            "backgroundcolor": "#E5ECF6",
            "gridcolor": "white",
            "gridwidth": 2,
            "linecolor": "white",
            "showbackground": true,
            "ticks": "",
            "zerolinecolor": "white"
           }
          },
          "shapedefaults": {
           "line": {
            "color": "#2a3f5f"
           }
          },
          "ternary": {
           "aaxis": {
            "gridcolor": "white",
            "linecolor": "white",
            "ticks": ""
           },
           "baxis": {
            "gridcolor": "white",
            "linecolor": "white",
            "ticks": ""
           },
           "bgcolor": "#E5ECF6",
           "caxis": {
            "gridcolor": "white",
            "linecolor": "white",
            "ticks": ""
           }
          },
          "title": {
           "x": 0.05
          },
          "xaxis": {
           "automargin": true,
           "gridcolor": "white",
           "linecolor": "white",
           "ticks": "",
           "zerolinecolor": "white",
           "zerolinewidth": 2
          },
          "yaxis": {
           "automargin": true,
           "gridcolor": "white",
           "linecolor": "white",
           "ticks": "",
           "zerolinecolor": "white",
           "zerolinewidth": 2
          }
         }
        },
        "title": {
         "text": "Feature counts | Total number of rows=96446"
        },
        "xaxis": {
         "title": {
          "text": "Features"
         }
        },
        "yaxis": {
         "title": {
          "text": "Log(Number of unique values)"
         }
        }
       }
      },
      "text/html": [
       "<div>\n",
       "        \n",
       "        \n",
       "            <div id=\"3ac7e973-502e-43ee-b81e-e1dedefc972e\" class=\"plotly-graph-div\" style=\"height:525px; width:100%;\"></div>\n",
       "            <script type=\"text/javascript\">\n",
       "                require([\"plotly\"], function(Plotly) {\n",
       "                    window.PLOTLYENV=window.PLOTLYENV || {};\n",
       "                    \n",
       "                if (document.getElementById(\"3ac7e973-502e-43ee-b81e-e1dedefc972e\")) {\n",
       "                    Plotly.newPlot(\n",
       "                        '3ac7e973-502e-43ee-b81e-e1dedefc972e',\n",
       "                        [{\"type\": \"bar\", \"x\": [\"encounter_id\", \"patient_nbr\", \"race\", \"gender\", \"age\", \"weight\", \"admission_type_id\", \"discharge_disposition_id\", \"admission_source_id\", \"time_in_hospital\", \"payer_code\", \"medical_specialty\", \"num_lab_procedures\", \"num_procedures\", \"num_medications\", \"number_outpatient\", \"number_emergency\", \"number_inpatient\", \"diag_1\", \"diag_2\", \"diag_3\", \"number_diagnoses\", \"max_glu_serum\", \"A1Cresult\", \"metformin\", \"repaglinide\", \"nateglinide\", \"chlorpropamide\", \"glimepiride\", \"acetohexamide\", \"glipizide\", \"glyburide\", \"tolbutamide\", \"pioglitazone\", \"rosiglitazone\", \"acarbose\", \"miglitol\", \"troglitazone\", \"tolazamide\", \"examide\", \"citoglipton\", \"insulin\", \"glyburide-metformin\", \"glipizide-metformin\", \"glimepiride-pioglitazone\", \"metformin-rosiglitazone\", \"metformin-pioglitazone\", \"change\", \"diabetesMed\", \"readmitted\", \"race_age_gender\", \"num_medications_log\", \"level1_diag1\", \"level2_diag1\", \"level1_diag2\", \"level2_diag2\", \"level1_diag3\", \"level2_diag3\"], \"y\": [4.984284220430386, 4.829818187438877, 0.6989700043360189, 0.3010299956639812, 1.0, 1.0, 0.6020599913279624, 0.9542425094393249, 0.7781512503836436, 1.146128035678238, 1.2304489213782739, 1.863322860120456, 2.0718820073061255, 0.8450980400142568, 1.8750612633917, 1.591064607026499, 1.5185139398778875, 1.3010299956639813, 2.8524799936368566, 2.8686444383948255, 2.8943160626844384, 1.146128035678238, 0.47712125471966244, 0.47712125471966244, 0.6020599913279624, 0.6020599913279624, 0.6020599913279624, 0.6020599913279624, 0.6020599913279624, 0.3010299956639812, 0.6020599913279624, 0.6020599913279624, 0.3010299956639812, 0.6020599913279624, 0.6020599913279624, 0.6020599913279624, 0.6020599913279624, 0.3010299956639812, 0.47712125471966244, 0.0, 0.0, 0.6020599913279624, 0.6020599913279624, 0.3010299956639812, 0.3010299956639812, 0.0, 0.3010299956639812, 0.3010299956639812, 0.3010299956639812, 0.47712125471966244, 1.9777236052888478, 1.8750612633917, 0.9542425094393249, 1.3617278360175928, 0.9542425094393249, 1.3617278360175928, 0.9542425094393249, 1.3617278360175928]}],\n",
       "                        {\"template\": {\"data\": {\"bar\": [{\"error_x\": {\"color\": \"#2a3f5f\"}, \"error_y\": {\"color\": \"#2a3f5f\"}, \"marker\": {\"line\": {\"color\": \"#E5ECF6\", \"width\": 0.5}}, \"type\": \"bar\"}], \"barpolar\": [{\"marker\": {\"line\": {\"color\": \"#E5ECF6\", \"width\": 0.5}}, \"type\": \"barpolar\"}], \"carpet\": [{\"aaxis\": {\"endlinecolor\": \"#2a3f5f\", \"gridcolor\": \"white\", \"linecolor\": \"white\", \"minorgridcolor\": \"white\", \"startlinecolor\": \"#2a3f5f\"}, \"baxis\": {\"endlinecolor\": \"#2a3f5f\", \"gridcolor\": \"white\", \"linecolor\": \"white\", \"minorgridcolor\": \"white\", \"startlinecolor\": \"#2a3f5f\"}, \"type\": \"carpet\"}], \"choropleth\": [{\"colorbar\": {\"outlinewidth\": 0, \"ticks\": \"\"}, \"type\": \"choropleth\"}], \"contour\": [{\"colorbar\": {\"outlinewidth\": 0, \"ticks\": \"\"}, \"colorscale\": [[0.0, \"#0d0887\"], [0.1111111111111111, \"#46039f\"], [0.2222222222222222, \"#7201a8\"], [0.3333333333333333, \"#9c179e\"], [0.4444444444444444, \"#bd3786\"], [0.5555555555555556, \"#d8576b\"], [0.6666666666666666, \"#ed7953\"], [0.7777777777777778, \"#fb9f3a\"], [0.8888888888888888, \"#fdca26\"], [1.0, \"#f0f921\"]], \"type\": \"contour\"}], \"contourcarpet\": [{\"colorbar\": {\"outlinewidth\": 0, \"ticks\": \"\"}, \"type\": \"contourcarpet\"}], \"heatmap\": [{\"colorbar\": {\"outlinewidth\": 0, \"ticks\": \"\"}, \"colorscale\": [[0.0, \"#0d0887\"], [0.1111111111111111, \"#46039f\"], [0.2222222222222222, \"#7201a8\"], [0.3333333333333333, \"#9c179e\"], [0.4444444444444444, \"#bd3786\"], [0.5555555555555556, \"#d8576b\"], [0.6666666666666666, \"#ed7953\"], [0.7777777777777778, \"#fb9f3a\"], [0.8888888888888888, \"#fdca26\"], [1.0, \"#f0f921\"]], \"type\": \"heatmap\"}], \"heatmapgl\": [{\"colorbar\": {\"outlinewidth\": 0, \"ticks\": \"\"}, \"colorscale\": [[0.0, \"#0d0887\"], [0.1111111111111111, \"#46039f\"], [0.2222222222222222, \"#7201a8\"], [0.3333333333333333, \"#9c179e\"], [0.4444444444444444, \"#bd3786\"], [0.5555555555555556, \"#d8576b\"], [0.6666666666666666, \"#ed7953\"], [0.7777777777777778, \"#fb9f3a\"], [0.8888888888888888, \"#fdca26\"], [1.0, \"#f0f921\"]], \"type\": \"heatmapgl\"}], \"histogram\": [{\"marker\": {\"colorbar\": {\"outlinewidth\": 0, \"ticks\": \"\"}}, \"type\": \"histogram\"}], \"histogram2d\": [{\"colorbar\": {\"outlinewidth\": 0, \"ticks\": \"\"}, \"colorscale\": [[0.0, \"#0d0887\"], [0.1111111111111111, \"#46039f\"], [0.2222222222222222, \"#7201a8\"], [0.3333333333333333, \"#9c179e\"], [0.4444444444444444, \"#bd3786\"], [0.5555555555555556, \"#d8576b\"], [0.6666666666666666, \"#ed7953\"], [0.7777777777777778, \"#fb9f3a\"], [0.8888888888888888, \"#fdca26\"], [1.0, \"#f0f921\"]], \"type\": \"histogram2d\"}], \"histogram2dcontour\": [{\"colorbar\": {\"outlinewidth\": 0, \"ticks\": \"\"}, \"colorscale\": [[0.0, \"#0d0887\"], [0.1111111111111111, \"#46039f\"], [0.2222222222222222, \"#7201a8\"], [0.3333333333333333, \"#9c179e\"], [0.4444444444444444, \"#bd3786\"], [0.5555555555555556, \"#d8576b\"], [0.6666666666666666, \"#ed7953\"], [0.7777777777777778, \"#fb9f3a\"], [0.8888888888888888, \"#fdca26\"], [1.0, \"#f0f921\"]], \"type\": \"histogram2dcontour\"}], \"mesh3d\": [{\"colorbar\": {\"outlinewidth\": 0, \"ticks\": \"\"}, \"type\": \"mesh3d\"}], \"parcoords\": [{\"line\": {\"colorbar\": {\"outlinewidth\": 0, \"ticks\": \"\"}}, \"type\": \"parcoords\"}], \"scatter\": [{\"marker\": {\"colorbar\": {\"outlinewidth\": 0, \"ticks\": \"\"}}, \"type\": \"scatter\"}], \"scatter3d\": [{\"line\": {\"colorbar\": {\"outlinewidth\": 0, \"ticks\": \"\"}}, \"marker\": {\"colorbar\": {\"outlinewidth\": 0, \"ticks\": \"\"}}, \"type\": \"scatter3d\"}], \"scattercarpet\": [{\"marker\": {\"colorbar\": {\"outlinewidth\": 0, \"ticks\": \"\"}}, \"type\": \"scattercarpet\"}], \"scattergeo\": [{\"marker\": {\"colorbar\": {\"outlinewidth\": 0, \"ticks\": \"\"}}, \"type\": \"scattergeo\"}], \"scattergl\": [{\"marker\": {\"colorbar\": {\"outlinewidth\": 0, \"ticks\": \"\"}}, \"type\": \"scattergl\"}], \"scattermapbox\": [{\"marker\": {\"colorbar\": {\"outlinewidth\": 0, \"ticks\": \"\"}}, \"type\": \"scattermapbox\"}], \"scatterpolar\": [{\"marker\": {\"colorbar\": {\"outlinewidth\": 0, \"ticks\": \"\"}}, \"type\": \"scatterpolar\"}], \"scatterpolargl\": [{\"marker\": {\"colorbar\": {\"outlinewidth\": 0, \"ticks\": \"\"}}, \"type\": \"scatterpolargl\"}], \"scatterternary\": [{\"marker\": {\"colorbar\": {\"outlinewidth\": 0, \"ticks\": \"\"}}, \"type\": \"scatterternary\"}], \"surface\": [{\"colorbar\": {\"outlinewidth\": 0, \"ticks\": \"\"}, \"colorscale\": [[0.0, \"#0d0887\"], [0.1111111111111111, \"#46039f\"], [0.2222222222222222, \"#7201a8\"], [0.3333333333333333, \"#9c179e\"], [0.4444444444444444, \"#bd3786\"], [0.5555555555555556, \"#d8576b\"], [0.6666666666666666, \"#ed7953\"], [0.7777777777777778, \"#fb9f3a\"], [0.8888888888888888, \"#fdca26\"], [1.0, \"#f0f921\"]], \"type\": \"surface\"}], \"table\": [{\"cells\": {\"fill\": {\"color\": \"#EBF0F8\"}, \"line\": {\"color\": \"white\"}}, \"header\": {\"fill\": {\"color\": \"#C8D4E3\"}, \"line\": {\"color\": \"white\"}}, \"type\": \"table\"}]}, \"layout\": {\"annotationdefaults\": {\"arrowcolor\": \"#2a3f5f\", \"arrowhead\": 0, \"arrowwidth\": 1}, \"colorscale\": {\"diverging\": [[0, \"#8e0152\"], [0.1, \"#c51b7d\"], [0.2, \"#de77ae\"], [0.3, \"#f1b6da\"], [0.4, \"#fde0ef\"], [0.5, \"#f7f7f7\"], [0.6, \"#e6f5d0\"], [0.7, \"#b8e186\"], [0.8, \"#7fbc41\"], [0.9, \"#4d9221\"], [1, \"#276419\"]], \"sequential\": [[0.0, \"#0d0887\"], [0.1111111111111111, \"#46039f\"], [0.2222222222222222, \"#7201a8\"], [0.3333333333333333, \"#9c179e\"], [0.4444444444444444, \"#bd3786\"], [0.5555555555555556, \"#d8576b\"], [0.6666666666666666, \"#ed7953\"], [0.7777777777777778, \"#fb9f3a\"], [0.8888888888888888, \"#fdca26\"], [1.0, \"#f0f921\"]], \"sequentialminus\": [[0.0, \"#0d0887\"], [0.1111111111111111, \"#46039f\"], [0.2222222222222222, \"#7201a8\"], [0.3333333333333333, \"#9c179e\"], [0.4444444444444444, \"#bd3786\"], [0.5555555555555556, \"#d8576b\"], [0.6666666666666666, \"#ed7953\"], [0.7777777777777778, \"#fb9f3a\"], [0.8888888888888888, \"#fdca26\"], [1.0, \"#f0f921\"]]}, \"colorway\": [\"#636efa\", \"#EF553B\", \"#00cc96\", \"#ab63fa\", \"#FFA15A\", \"#19d3f3\", \"#FF6692\", \"#B6E880\", \"#FF97FF\", \"#FECB52\"], \"font\": {\"color\": \"#2a3f5f\"}, \"geo\": {\"bgcolor\": \"white\", \"lakecolor\": \"white\", \"landcolor\": \"#E5ECF6\", \"showlakes\": true, \"showland\": true, \"subunitcolor\": \"white\"}, \"hoverlabel\": {\"align\": \"left\"}, \"hovermode\": \"closest\", \"mapbox\": {\"style\": \"light\"}, \"paper_bgcolor\": \"white\", \"plot_bgcolor\": \"#E5ECF6\", \"polar\": {\"angularaxis\": {\"gridcolor\": \"white\", \"linecolor\": \"white\", \"ticks\": \"\"}, \"bgcolor\": \"#E5ECF6\", \"radialaxis\": {\"gridcolor\": \"white\", \"linecolor\": \"white\", \"ticks\": \"\"}}, \"scene\": {\"xaxis\": {\"backgroundcolor\": \"#E5ECF6\", \"gridcolor\": \"white\", \"gridwidth\": 2, \"linecolor\": \"white\", \"showbackground\": true, \"ticks\": \"\", \"zerolinecolor\": \"white\"}, \"yaxis\": {\"backgroundcolor\": \"#E5ECF6\", \"gridcolor\": \"white\", \"gridwidth\": 2, \"linecolor\": \"white\", \"showbackground\": true, \"ticks\": \"\", \"zerolinecolor\": \"white\"}, \"zaxis\": {\"backgroundcolor\": \"#E5ECF6\", \"gridcolor\": \"white\", \"gridwidth\": 2, \"linecolor\": \"white\", \"showbackground\": true, \"ticks\": \"\", \"zerolinecolor\": \"white\"}}, \"shapedefaults\": {\"line\": {\"color\": \"#2a3f5f\"}}, \"ternary\": {\"aaxis\": {\"gridcolor\": \"white\", \"linecolor\": \"white\", \"ticks\": \"\"}, \"baxis\": {\"gridcolor\": \"white\", \"linecolor\": \"white\", \"ticks\": \"\"}, \"bgcolor\": \"#E5ECF6\", \"caxis\": {\"gridcolor\": \"white\", \"linecolor\": \"white\", \"ticks\": \"\"}}, \"title\": {\"x\": 0.05}, \"xaxis\": {\"automargin\": true, \"gridcolor\": \"white\", \"linecolor\": \"white\", \"ticks\": \"\", \"zerolinecolor\": \"white\", \"zerolinewidth\": 2}, \"yaxis\": {\"automargin\": true, \"gridcolor\": \"white\", \"linecolor\": \"white\", \"ticks\": \"\", \"zerolinecolor\": \"white\", \"zerolinewidth\": 2}}}, \"title\": {\"text\": \"Feature counts | Total number of rows=96446\"}, \"xaxis\": {\"title\": {\"text\": \"Features\"}}, \"yaxis\": {\"title\": {\"text\": \"Log(Number of unique values)\"}}},\n",
       "                        {\"responsive\": true}\n",
       "                    ).then(function(){\n",
       "                            \n",
       "var gd = document.getElementById('3ac7e973-502e-43ee-b81e-e1dedefc972e');\n",
       "var x = new MutationObserver(function (mutations, observer) {{\n",
       "        var display = window.getComputedStyle(gd).display;\n",
       "        if (!display || display === 'none') {{\n",
       "            console.log([gd, 'removed!']);\n",
       "            Plotly.purge(gd);\n",
       "            observer.disconnect();\n",
       "        }}\n",
       "}});\n",
       "\n",
       "// Listen for the removal of the full notebook cells\n",
       "var notebookContainer = gd.closest('#notebook-container');\n",
       "if (notebookContainer) {{\n",
       "    x.observe(notebookContainer, {childList: true});\n",
       "}}\n",
       "\n",
       "// Listen for the clearing of the current output cell\n",
       "var outputEl = gd.closest('.output');\n",
       "if (outputEl) {{\n",
       "    x.observe(outputEl, {childList: true});\n",
       "}}\n",
       "\n",
       "                        })\n",
       "                };\n",
       "                });\n",
       "            </script>\n",
       "        </div>"
      ]
     },
     "metadata": {},
     "output_type": "display_data"
    },
    {
     "data": {
      "application/vnd.plotly.v1+json": {
       "config": {
        "linkText": "Export to plot.ly",
        "plotlyServerURL": "https://plot.ly",
        "showLink": false
       },
       "data": [
        {
         "type": "bar",
         "x": [
          ">30",
          "<30",
          "NO"
         ],
         "y": [
          34649,
          11066,
          50731
         ]
        }
       ],
       "layout": {
        "template": {
         "data": {
          "bar": [
           {
            "error_x": {
             "color": "#2a3f5f"
            },
            "error_y": {
             "color": "#2a3f5f"
            },
            "marker": {
             "line": {
              "color": "#E5ECF6",
              "width": 0.5
             }
            },
            "type": "bar"
           }
          ],
          "barpolar": [
           {
            "marker": {
             "line": {
              "color": "#E5ECF6",
              "width": 0.5
             }
            },
            "type": "barpolar"
           }
          ],
          "carpet": [
           {
            "aaxis": {
             "endlinecolor": "#2a3f5f",
             "gridcolor": "white",
             "linecolor": "white",
             "minorgridcolor": "white",
             "startlinecolor": "#2a3f5f"
            },
            "baxis": {
             "endlinecolor": "#2a3f5f",
             "gridcolor": "white",
             "linecolor": "white",
             "minorgridcolor": "white",
             "startlinecolor": "#2a3f5f"
            },
            "type": "carpet"
           }
          ],
          "choropleth": [
           {
            "colorbar": {
             "outlinewidth": 0,
             "ticks": ""
            },
            "type": "choropleth"
           }
          ],
          "contour": [
           {
            "colorbar": {
             "outlinewidth": 0,
             "ticks": ""
            },
            "colorscale": [
             [
              0,
              "#0d0887"
             ],
             [
              0.1111111111111111,
              "#46039f"
             ],
             [
              0.2222222222222222,
              "#7201a8"
             ],
             [
              0.3333333333333333,
              "#9c179e"
             ],
             [
              0.4444444444444444,
              "#bd3786"
             ],
             [
              0.5555555555555556,
              "#d8576b"
             ],
             [
              0.6666666666666666,
              "#ed7953"
             ],
             [
              0.7777777777777778,
              "#fb9f3a"
             ],
             [
              0.8888888888888888,
              "#fdca26"
             ],
             [
              1,
              "#f0f921"
             ]
            ],
            "type": "contour"
           }
          ],
          "contourcarpet": [
           {
            "colorbar": {
             "outlinewidth": 0,
             "ticks": ""
            },
            "type": "contourcarpet"
           }
          ],
          "heatmap": [
           {
            "colorbar": {
             "outlinewidth": 0,
             "ticks": ""
            },
            "colorscale": [
             [
              0,
              "#0d0887"
             ],
             [
              0.1111111111111111,
              "#46039f"
             ],
             [
              0.2222222222222222,
              "#7201a8"
             ],
             [
              0.3333333333333333,
              "#9c179e"
             ],
             [
              0.4444444444444444,
              "#bd3786"
             ],
             [
              0.5555555555555556,
              "#d8576b"
             ],
             [
              0.6666666666666666,
              "#ed7953"
             ],
             [
              0.7777777777777778,
              "#fb9f3a"
             ],
             [
              0.8888888888888888,
              "#fdca26"
             ],
             [
              1,
              "#f0f921"
             ]
            ],
            "type": "heatmap"
           }
          ],
          "heatmapgl": [
           {
            "colorbar": {
             "outlinewidth": 0,
             "ticks": ""
            },
            "colorscale": [
             [
              0,
              "#0d0887"
             ],
             [
              0.1111111111111111,
              "#46039f"
             ],
             [
              0.2222222222222222,
              "#7201a8"
             ],
             [
              0.3333333333333333,
              "#9c179e"
             ],
             [
              0.4444444444444444,
              "#bd3786"
             ],
             [
              0.5555555555555556,
              "#d8576b"
             ],
             [
              0.6666666666666666,
              "#ed7953"
             ],
             [
              0.7777777777777778,
              "#fb9f3a"
             ],
             [
              0.8888888888888888,
              "#fdca26"
             ],
             [
              1,
              "#f0f921"
             ]
            ],
            "type": "heatmapgl"
           }
          ],
          "histogram": [
           {
            "marker": {
             "colorbar": {
              "outlinewidth": 0,
              "ticks": ""
             }
            },
            "type": "histogram"
           }
          ],
          "histogram2d": [
           {
            "colorbar": {
             "outlinewidth": 0,
             "ticks": ""
            },
            "colorscale": [
             [
              0,
              "#0d0887"
             ],
             [
              0.1111111111111111,
              "#46039f"
             ],
             [
              0.2222222222222222,
              "#7201a8"
             ],
             [
              0.3333333333333333,
              "#9c179e"
             ],
             [
              0.4444444444444444,
              "#bd3786"
             ],
             [
              0.5555555555555556,
              "#d8576b"
             ],
             [
              0.6666666666666666,
              "#ed7953"
             ],
             [
              0.7777777777777778,
              "#fb9f3a"
             ],
             [
              0.8888888888888888,
              "#fdca26"
             ],
             [
              1,
              "#f0f921"
             ]
            ],
            "type": "histogram2d"
           }
          ],
          "histogram2dcontour": [
           {
            "colorbar": {
             "outlinewidth": 0,
             "ticks": ""
            },
            "colorscale": [
             [
              0,
              "#0d0887"
             ],
             [
              0.1111111111111111,
              "#46039f"
             ],
             [
              0.2222222222222222,
              "#7201a8"
             ],
             [
              0.3333333333333333,
              "#9c179e"
             ],
             [
              0.4444444444444444,
              "#bd3786"
             ],
             [
              0.5555555555555556,
              "#d8576b"
             ],
             [
              0.6666666666666666,
              "#ed7953"
             ],
             [
              0.7777777777777778,
              "#fb9f3a"
             ],
             [
              0.8888888888888888,
              "#fdca26"
             ],
             [
              1,
              "#f0f921"
             ]
            ],
            "type": "histogram2dcontour"
           }
          ],
          "mesh3d": [
           {
            "colorbar": {
             "outlinewidth": 0,
             "ticks": ""
            },
            "type": "mesh3d"
           }
          ],
          "parcoords": [
           {
            "line": {
             "colorbar": {
              "outlinewidth": 0,
              "ticks": ""
             }
            },
            "type": "parcoords"
           }
          ],
          "scatter": [
           {
            "marker": {
             "colorbar": {
              "outlinewidth": 0,
              "ticks": ""
             }
            },
            "type": "scatter"
           }
          ],
          "scatter3d": [
           {
            "line": {
             "colorbar": {
              "outlinewidth": 0,
              "ticks": ""
             }
            },
            "marker": {
             "colorbar": {
              "outlinewidth": 0,
              "ticks": ""
             }
            },
            "type": "scatter3d"
           }
          ],
          "scattercarpet": [
           {
            "marker": {
             "colorbar": {
              "outlinewidth": 0,
              "ticks": ""
             }
            },
            "type": "scattercarpet"
           }
          ],
          "scattergeo": [
           {
            "marker": {
             "colorbar": {
              "outlinewidth": 0,
              "ticks": ""
             }
            },
            "type": "scattergeo"
           }
          ],
          "scattergl": [
           {
            "marker": {
             "colorbar": {
              "outlinewidth": 0,
              "ticks": ""
             }
            },
            "type": "scattergl"
           }
          ],
          "scattermapbox": [
           {
            "marker": {
             "colorbar": {
              "outlinewidth": 0,
              "ticks": ""
             }
            },
            "type": "scattermapbox"
           }
          ],
          "scatterpolar": [
           {
            "marker": {
             "colorbar": {
              "outlinewidth": 0,
              "ticks": ""
             }
            },
            "type": "scatterpolar"
           }
          ],
          "scatterpolargl": [
           {
            "marker": {
             "colorbar": {
              "outlinewidth": 0,
              "ticks": ""
             }
            },
            "type": "scatterpolargl"
           }
          ],
          "scatterternary": [
           {
            "marker": {
             "colorbar": {
              "outlinewidth": 0,
              "ticks": ""
             }
            },
            "type": "scatterternary"
           }
          ],
          "surface": [
           {
            "colorbar": {
             "outlinewidth": 0,
             "ticks": ""
            },
            "colorscale": [
             [
              0,
              "#0d0887"
             ],
             [
              0.1111111111111111,
              "#46039f"
             ],
             [
              0.2222222222222222,
              "#7201a8"
             ],
             [
              0.3333333333333333,
              "#9c179e"
             ],
             [
              0.4444444444444444,
              "#bd3786"
             ],
             [
              0.5555555555555556,
              "#d8576b"
             ],
             [
              0.6666666666666666,
              "#ed7953"
             ],
             [
              0.7777777777777778,
              "#fb9f3a"
             ],
             [
              0.8888888888888888,
              "#fdca26"
             ],
             [
              1,
              "#f0f921"
             ]
            ],
            "type": "surface"
           }
          ],
          "table": [
           {
            "cells": {
             "fill": {
              "color": "#EBF0F8"
             },
             "line": {
              "color": "white"
             }
            },
            "header": {
             "fill": {
              "color": "#C8D4E3"
             },
             "line": {
              "color": "white"
             }
            },
            "type": "table"
           }
          ]
         },
         "layout": {
          "annotationdefaults": {
           "arrowcolor": "#2a3f5f",
           "arrowhead": 0,
           "arrowwidth": 1
          },
          "colorscale": {
           "diverging": [
            [
             0,
             "#8e0152"
            ],
            [
             0.1,
             "#c51b7d"
            ],
            [
             0.2,
             "#de77ae"
            ],
            [
             0.3,
             "#f1b6da"
            ],
            [
             0.4,
             "#fde0ef"
            ],
            [
             0.5,
             "#f7f7f7"
            ],
            [
             0.6,
             "#e6f5d0"
            ],
            [
             0.7,
             "#b8e186"
            ],
            [
             0.8,
             "#7fbc41"
            ],
            [
             0.9,
             "#4d9221"
            ],
            [
             1,
             "#276419"
            ]
           ],
           "sequential": [
            [
             0,
             "#0d0887"
            ],
            [
             0.1111111111111111,
             "#46039f"
            ],
            [
             0.2222222222222222,
             "#7201a8"
            ],
            [
             0.3333333333333333,
             "#9c179e"
            ],
            [
             0.4444444444444444,
             "#bd3786"
            ],
            [
             0.5555555555555556,
             "#d8576b"
            ],
            [
             0.6666666666666666,
             "#ed7953"
            ],
            [
             0.7777777777777778,
             "#fb9f3a"
            ],
            [
             0.8888888888888888,
             "#fdca26"
            ],
            [
             1,
             "#f0f921"
            ]
           ],
           "sequentialminus": [
            [
             0,
             "#0d0887"
            ],
            [
             0.1111111111111111,
             "#46039f"
            ],
            [
             0.2222222222222222,
             "#7201a8"
            ],
            [
             0.3333333333333333,
             "#9c179e"
            ],
            [
             0.4444444444444444,
             "#bd3786"
            ],
            [
             0.5555555555555556,
             "#d8576b"
            ],
            [
             0.6666666666666666,
             "#ed7953"
            ],
            [
             0.7777777777777778,
             "#fb9f3a"
            ],
            [
             0.8888888888888888,
             "#fdca26"
            ],
            [
             1,
             "#f0f921"
            ]
           ]
          },
          "colorway": [
           "#636efa",
           "#EF553B",
           "#00cc96",
           "#ab63fa",
           "#FFA15A",
           "#19d3f3",
           "#FF6692",
           "#B6E880",
           "#FF97FF",
           "#FECB52"
          ],
          "font": {
           "color": "#2a3f5f"
          },
          "geo": {
           "bgcolor": "white",
           "lakecolor": "white",
           "landcolor": "#E5ECF6",
           "showlakes": true,
           "showland": true,
           "subunitcolor": "white"
          },
          "hoverlabel": {
           "align": "left"
          },
          "hovermode": "closest",
          "mapbox": {
           "style": "light"
          },
          "paper_bgcolor": "white",
          "plot_bgcolor": "#E5ECF6",
          "polar": {
           "angularaxis": {
            "gridcolor": "white",
            "linecolor": "white",
            "ticks": ""
           },
           "bgcolor": "#E5ECF6",
           "radialaxis": {
            "gridcolor": "white",
            "linecolor": "white",
            "ticks": ""
           }
          },
          "scene": {
           "xaxis": {
            "backgroundcolor": "#E5ECF6",
            "gridcolor": "white",
            "gridwidth": 2,
            "linecolor": "white",
            "showbackground": true,
            "ticks": "",
            "zerolinecolor": "white"
           },
           "yaxis": {
            "backgroundcolor": "#E5ECF6",
            "gridcolor": "white",
            "gridwidth": 2,
            "linecolor": "white",
            "showbackground": true,
            "ticks": "",
            "zerolinecolor": "white"
           },
           "zaxis": {
            "backgroundcolor": "#E5ECF6",
            "gridcolor": "white",
            "gridwidth": 2,
            "linecolor": "white",
            "showbackground": true,
            "ticks": "",
            "zerolinecolor": "white"
           }
          },
          "shapedefaults": {
           "line": {
            "color": "#2a3f5f"
           }
          },
          "ternary": {
           "aaxis": {
            "gridcolor": "white",
            "linecolor": "white",
            "ticks": ""
           },
           "baxis": {
            "gridcolor": "white",
            "linecolor": "white",
            "ticks": ""
           },
           "bgcolor": "#E5ECF6",
           "caxis": {
            "gridcolor": "white",
            "linecolor": "white",
            "ticks": ""
           }
          },
          "title": {
           "x": 0.05
          },
          "xaxis": {
           "automargin": true,
           "gridcolor": "white",
           "linecolor": "white",
           "ticks": "",
           "zerolinecolor": "white",
           "zerolinewidth": 2
          },
          "yaxis": {
           "automargin": true,
           "gridcolor": "white",
           "linecolor": "white",
           "ticks": "",
           "zerolinecolor": "white",
           "zerolinewidth": 2
          }
         }
        },
        "title": {
         "text": "Class counts | Total number of rows=96446"
        },
        "xaxis": {
         "title": {
          "text": "Features"
         }
        },
        "yaxis": {
         "title": {
          "text": "Log(Number of unique values)"
         }
        }
       }
      },
      "text/html": [
       "<div>\n",
       "        \n",
       "        \n",
       "            <div id=\"31bb3f9e-30e6-4e36-b64f-6c0dc075ba7b\" class=\"plotly-graph-div\" style=\"height:525px; width:100%;\"></div>\n",
       "            <script type=\"text/javascript\">\n",
       "                require([\"plotly\"], function(Plotly) {\n",
       "                    window.PLOTLYENV=window.PLOTLYENV || {};\n",
       "                    \n",
       "                if (document.getElementById(\"31bb3f9e-30e6-4e36-b64f-6c0dc075ba7b\")) {\n",
       "                    Plotly.newPlot(\n",
       "                        '31bb3f9e-30e6-4e36-b64f-6c0dc075ba7b',\n",
       "                        [{\"type\": \"bar\", \"x\": [\">30\", \"<30\", \"NO\"], \"y\": [34649, 11066, 50731]}],\n",
       "                        {\"template\": {\"data\": {\"bar\": [{\"error_x\": {\"color\": \"#2a3f5f\"}, \"error_y\": {\"color\": \"#2a3f5f\"}, \"marker\": {\"line\": {\"color\": \"#E5ECF6\", \"width\": 0.5}}, \"type\": \"bar\"}], \"barpolar\": [{\"marker\": {\"line\": {\"color\": \"#E5ECF6\", \"width\": 0.5}}, \"type\": \"barpolar\"}], \"carpet\": [{\"aaxis\": {\"endlinecolor\": \"#2a3f5f\", \"gridcolor\": \"white\", \"linecolor\": \"white\", \"minorgridcolor\": \"white\", \"startlinecolor\": \"#2a3f5f\"}, \"baxis\": {\"endlinecolor\": \"#2a3f5f\", \"gridcolor\": \"white\", \"linecolor\": \"white\", \"minorgridcolor\": \"white\", \"startlinecolor\": \"#2a3f5f\"}, \"type\": \"carpet\"}], \"choropleth\": [{\"colorbar\": {\"outlinewidth\": 0, \"ticks\": \"\"}, \"type\": \"choropleth\"}], \"contour\": [{\"colorbar\": {\"outlinewidth\": 0, \"ticks\": \"\"}, \"colorscale\": [[0.0, \"#0d0887\"], [0.1111111111111111, \"#46039f\"], [0.2222222222222222, \"#7201a8\"], [0.3333333333333333, \"#9c179e\"], [0.4444444444444444, \"#bd3786\"], [0.5555555555555556, \"#d8576b\"], [0.6666666666666666, \"#ed7953\"], [0.7777777777777778, \"#fb9f3a\"], [0.8888888888888888, \"#fdca26\"], [1.0, \"#f0f921\"]], \"type\": \"contour\"}], \"contourcarpet\": [{\"colorbar\": {\"outlinewidth\": 0, \"ticks\": \"\"}, \"type\": \"contourcarpet\"}], \"heatmap\": [{\"colorbar\": {\"outlinewidth\": 0, \"ticks\": \"\"}, \"colorscale\": [[0.0, \"#0d0887\"], [0.1111111111111111, \"#46039f\"], [0.2222222222222222, \"#7201a8\"], [0.3333333333333333, \"#9c179e\"], [0.4444444444444444, \"#bd3786\"], [0.5555555555555556, \"#d8576b\"], [0.6666666666666666, \"#ed7953\"], [0.7777777777777778, \"#fb9f3a\"], [0.8888888888888888, \"#fdca26\"], [1.0, \"#f0f921\"]], \"type\": \"heatmap\"}], \"heatmapgl\": [{\"colorbar\": {\"outlinewidth\": 0, \"ticks\": \"\"}, \"colorscale\": [[0.0, \"#0d0887\"], [0.1111111111111111, \"#46039f\"], [0.2222222222222222, \"#7201a8\"], [0.3333333333333333, \"#9c179e\"], [0.4444444444444444, \"#bd3786\"], [0.5555555555555556, \"#d8576b\"], [0.6666666666666666, \"#ed7953\"], [0.7777777777777778, \"#fb9f3a\"], [0.8888888888888888, \"#fdca26\"], [1.0, \"#f0f921\"]], \"type\": \"heatmapgl\"}], \"histogram\": [{\"marker\": {\"colorbar\": {\"outlinewidth\": 0, \"ticks\": \"\"}}, \"type\": \"histogram\"}], \"histogram2d\": [{\"colorbar\": {\"outlinewidth\": 0, \"ticks\": \"\"}, \"colorscale\": [[0.0, \"#0d0887\"], [0.1111111111111111, \"#46039f\"], [0.2222222222222222, \"#7201a8\"], [0.3333333333333333, \"#9c179e\"], [0.4444444444444444, \"#bd3786\"], [0.5555555555555556, \"#d8576b\"], [0.6666666666666666, \"#ed7953\"], [0.7777777777777778, \"#fb9f3a\"], [0.8888888888888888, \"#fdca26\"], [1.0, \"#f0f921\"]], \"type\": \"histogram2d\"}], \"histogram2dcontour\": [{\"colorbar\": {\"outlinewidth\": 0, \"ticks\": \"\"}, \"colorscale\": [[0.0, \"#0d0887\"], [0.1111111111111111, \"#46039f\"], [0.2222222222222222, \"#7201a8\"], [0.3333333333333333, \"#9c179e\"], [0.4444444444444444, \"#bd3786\"], [0.5555555555555556, \"#d8576b\"], [0.6666666666666666, \"#ed7953\"], [0.7777777777777778, \"#fb9f3a\"], [0.8888888888888888, \"#fdca26\"], [1.0, \"#f0f921\"]], \"type\": \"histogram2dcontour\"}], \"mesh3d\": [{\"colorbar\": {\"outlinewidth\": 0, \"ticks\": \"\"}, \"type\": \"mesh3d\"}], \"parcoords\": [{\"line\": {\"colorbar\": {\"outlinewidth\": 0, \"ticks\": \"\"}}, \"type\": \"parcoords\"}], \"scatter\": [{\"marker\": {\"colorbar\": {\"outlinewidth\": 0, \"ticks\": \"\"}}, \"type\": \"scatter\"}], \"scatter3d\": [{\"line\": {\"colorbar\": {\"outlinewidth\": 0, \"ticks\": \"\"}}, \"marker\": {\"colorbar\": {\"outlinewidth\": 0, \"ticks\": \"\"}}, \"type\": \"scatter3d\"}], \"scattercarpet\": [{\"marker\": {\"colorbar\": {\"outlinewidth\": 0, \"ticks\": \"\"}}, \"type\": \"scattercarpet\"}], \"scattergeo\": [{\"marker\": {\"colorbar\": {\"outlinewidth\": 0, \"ticks\": \"\"}}, \"type\": \"scattergeo\"}], \"scattergl\": [{\"marker\": {\"colorbar\": {\"outlinewidth\": 0, \"ticks\": \"\"}}, \"type\": \"scattergl\"}], \"scattermapbox\": [{\"marker\": {\"colorbar\": {\"outlinewidth\": 0, \"ticks\": \"\"}}, \"type\": \"scattermapbox\"}], \"scatterpolar\": [{\"marker\": {\"colorbar\": {\"outlinewidth\": 0, \"ticks\": \"\"}}, \"type\": \"scatterpolar\"}], \"scatterpolargl\": [{\"marker\": {\"colorbar\": {\"outlinewidth\": 0, \"ticks\": \"\"}}, \"type\": \"scatterpolargl\"}], \"scatterternary\": [{\"marker\": {\"colorbar\": {\"outlinewidth\": 0, \"ticks\": \"\"}}, \"type\": \"scatterternary\"}], \"surface\": [{\"colorbar\": {\"outlinewidth\": 0, \"ticks\": \"\"}, \"colorscale\": [[0.0, \"#0d0887\"], [0.1111111111111111, \"#46039f\"], [0.2222222222222222, \"#7201a8\"], [0.3333333333333333, \"#9c179e\"], [0.4444444444444444, \"#bd3786\"], [0.5555555555555556, \"#d8576b\"], [0.6666666666666666, \"#ed7953\"], [0.7777777777777778, \"#fb9f3a\"], [0.8888888888888888, \"#fdca26\"], [1.0, \"#f0f921\"]], \"type\": \"surface\"}], \"table\": [{\"cells\": {\"fill\": {\"color\": \"#EBF0F8\"}, \"line\": {\"color\": \"white\"}}, \"header\": {\"fill\": {\"color\": \"#C8D4E3\"}, \"line\": {\"color\": \"white\"}}, \"type\": \"table\"}]}, \"layout\": {\"annotationdefaults\": {\"arrowcolor\": \"#2a3f5f\", \"arrowhead\": 0, \"arrowwidth\": 1}, \"colorscale\": {\"diverging\": [[0, \"#8e0152\"], [0.1, \"#c51b7d\"], [0.2, \"#de77ae\"], [0.3, \"#f1b6da\"], [0.4, \"#fde0ef\"], [0.5, \"#f7f7f7\"], [0.6, \"#e6f5d0\"], [0.7, \"#b8e186\"], [0.8, \"#7fbc41\"], [0.9, \"#4d9221\"], [1, \"#276419\"]], \"sequential\": [[0.0, \"#0d0887\"], [0.1111111111111111, \"#46039f\"], [0.2222222222222222, \"#7201a8\"], [0.3333333333333333, \"#9c179e\"], [0.4444444444444444, \"#bd3786\"], [0.5555555555555556, \"#d8576b\"], [0.6666666666666666, \"#ed7953\"], [0.7777777777777778, \"#fb9f3a\"], [0.8888888888888888, \"#fdca26\"], [1.0, \"#f0f921\"]], \"sequentialminus\": [[0.0, \"#0d0887\"], [0.1111111111111111, \"#46039f\"], [0.2222222222222222, \"#7201a8\"], [0.3333333333333333, \"#9c179e\"], [0.4444444444444444, \"#bd3786\"], [0.5555555555555556, \"#d8576b\"], [0.6666666666666666, \"#ed7953\"], [0.7777777777777778, \"#fb9f3a\"], [0.8888888888888888, \"#fdca26\"], [1.0, \"#f0f921\"]]}, \"colorway\": [\"#636efa\", \"#EF553B\", \"#00cc96\", \"#ab63fa\", \"#FFA15A\", \"#19d3f3\", \"#FF6692\", \"#B6E880\", \"#FF97FF\", \"#FECB52\"], \"font\": {\"color\": \"#2a3f5f\"}, \"geo\": {\"bgcolor\": \"white\", \"lakecolor\": \"white\", \"landcolor\": \"#E5ECF6\", \"showlakes\": true, \"showland\": true, \"subunitcolor\": \"white\"}, \"hoverlabel\": {\"align\": \"left\"}, \"hovermode\": \"closest\", \"mapbox\": {\"style\": \"light\"}, \"paper_bgcolor\": \"white\", \"plot_bgcolor\": \"#E5ECF6\", \"polar\": {\"angularaxis\": {\"gridcolor\": \"white\", \"linecolor\": \"white\", \"ticks\": \"\"}, \"bgcolor\": \"#E5ECF6\", \"radialaxis\": {\"gridcolor\": \"white\", \"linecolor\": \"white\", \"ticks\": \"\"}}, \"scene\": {\"xaxis\": {\"backgroundcolor\": \"#E5ECF6\", \"gridcolor\": \"white\", \"gridwidth\": 2, \"linecolor\": \"white\", \"showbackground\": true, \"ticks\": \"\", \"zerolinecolor\": \"white\"}, \"yaxis\": {\"backgroundcolor\": \"#E5ECF6\", \"gridcolor\": \"white\", \"gridwidth\": 2, \"linecolor\": \"white\", \"showbackground\": true, \"ticks\": \"\", \"zerolinecolor\": \"white\"}, \"zaxis\": {\"backgroundcolor\": \"#E5ECF6\", \"gridcolor\": \"white\", \"gridwidth\": 2, \"linecolor\": \"white\", \"showbackground\": true, \"ticks\": \"\", \"zerolinecolor\": \"white\"}}, \"shapedefaults\": {\"line\": {\"color\": \"#2a3f5f\"}}, \"ternary\": {\"aaxis\": {\"gridcolor\": \"white\", \"linecolor\": \"white\", \"ticks\": \"\"}, \"baxis\": {\"gridcolor\": \"white\", \"linecolor\": \"white\", \"ticks\": \"\"}, \"bgcolor\": \"#E5ECF6\", \"caxis\": {\"gridcolor\": \"white\", \"linecolor\": \"white\", \"ticks\": \"\"}}, \"title\": {\"x\": 0.05}, \"xaxis\": {\"automargin\": true, \"gridcolor\": \"white\", \"linecolor\": \"white\", \"ticks\": \"\", \"zerolinecolor\": \"white\", \"zerolinewidth\": 2}, \"yaxis\": {\"automargin\": true, \"gridcolor\": \"white\", \"linecolor\": \"white\", \"ticks\": \"\", \"zerolinecolor\": \"white\", \"zerolinewidth\": 2}}}, \"title\": {\"text\": \"Class counts | Total number of rows=96446\"}, \"xaxis\": {\"title\": {\"text\": \"Features\"}}, \"yaxis\": {\"title\": {\"text\": \"Log(Number of unique values)\"}}},\n",
       "                        {\"responsive\": true}\n",
       "                    ).then(function(){\n",
       "                            \n",
       "var gd = document.getElementById('31bb3f9e-30e6-4e36-b64f-6c0dc075ba7b');\n",
       "var x = new MutationObserver(function (mutations, observer) {{\n",
       "        var display = window.getComputedStyle(gd).display;\n",
       "        if (!display || display === 'none') {{\n",
       "            console.log([gd, 'removed!']);\n",
       "            Plotly.purge(gd);\n",
       "            observer.disconnect();\n",
       "        }}\n",
       "}});\n",
       "\n",
       "// Listen for the removal of the full notebook cells\n",
       "var notebookContainer = gd.closest('#notebook-container');\n",
       "if (notebookContainer) {{\n",
       "    x.observe(notebookContainer, {childList: true});\n",
       "}}\n",
       "\n",
       "// Listen for the clearing of the current output cell\n",
       "var outputEl = gd.closest('.output');\n",
       "if (outputEl) {{\n",
       "    x.observe(outputEl, {childList: true});\n",
       "}}\n",
       "\n",
       "                        })\n",
       "                };\n",
       "                });\n",
       "            </script>\n",
       "        </div>"
      ]
     },
     "metadata": {},
     "output_type": "display_data"
    },
    {
     "data": {
      "application/vnd.plotly.v1+json": {
       "config": {
        "linkText": "Export to plot.ly",
        "plotlyServerURL": "https://plot.ly",
        "showLink": false
       },
       "data": [
        {
         "type": "bar",
         "x": [
          "encounter_id",
          "patient_nbr",
          "race",
          "gender",
          "age",
          "weight",
          "admission_type_id",
          "discharge_disposition_id",
          "admission_source_id",
          "time_in_hospital",
          "payer_code",
          "medical_specialty",
          "num_lab_procedures",
          "num_procedures",
          "num_medications",
          "number_outpatient",
          "number_emergency",
          "number_inpatient",
          "diag_1",
          "diag_2",
          "diag_3",
          "number_diagnoses",
          "max_glu_serum",
          "A1Cresult",
          "metformin",
          "repaglinide",
          "nateglinide",
          "chlorpropamide",
          "glimepiride",
          "acetohexamide",
          "glipizide",
          "glyburide",
          "tolbutamide",
          "pioglitazone",
          "rosiglitazone",
          "acarbose",
          "miglitol",
          "troglitazone",
          "tolazamide",
          "examide",
          "citoglipton",
          "insulin",
          "glyburide-metformin",
          "glipizide-metformin",
          "glimepiride-pioglitazone",
          "metformin-rosiglitazone",
          "metformin-pioglitazone",
          "change",
          "diabetesMed",
          "readmitted",
          "race_age_gender",
          "num_medications_log",
          "level1_diag1",
          "level2_diag1",
          "level1_diag2",
          "level2_diag2",
          "level1_diag3",
          "level2_diag3"
         ],
         "y": [
          96446,
          96446,
          96446,
          96446,
          96446,
          96446,
          96446,
          96446,
          96446,
          96446,
          96446,
          96446,
          96446,
          96446,
          96446,
          96446,
          96446,
          96446,
          96446,
          96446,
          96446,
          96446,
          96446,
          96446,
          96446,
          96446,
          96446,
          96446,
          96446,
          96446,
          96446,
          96446,
          96446,
          96446,
          96446,
          96446,
          96446,
          96446,
          96446,
          96446,
          96446,
          96446,
          96446,
          96446,
          96446,
          96446,
          96446,
          96446,
          96446,
          96446,
          96446,
          96446,
          96446,
          96446,
          96446,
          96446,
          96446,
          96446
         ]
        },
        {
         "type": "bar",
         "x": [
          "encounter_id",
          "patient_nbr",
          "race",
          "gender",
          "age",
          "weight",
          "admission_type_id",
          "discharge_disposition_id",
          "admission_source_id",
          "time_in_hospital",
          "payer_code",
          "medical_specialty",
          "num_lab_procedures",
          "num_procedures",
          "num_medications",
          "number_outpatient",
          "number_emergency",
          "number_inpatient",
          "diag_1",
          "diag_2",
          "diag_3",
          "number_diagnoses",
          "max_glu_serum",
          "A1Cresult",
          "metformin",
          "repaglinide",
          "nateglinide",
          "chlorpropamide",
          "glimepiride",
          "acetohexamide",
          "glipizide",
          "glyburide",
          "tolbutamide",
          "pioglitazone",
          "rosiglitazone",
          "acarbose",
          "miglitol",
          "troglitazone",
          "tolazamide",
          "examide",
          "citoglipton",
          "insulin",
          "glyburide-metformin",
          "glipizide-metformin",
          "glimepiride-pioglitazone",
          "metformin-rosiglitazone",
          "metformin-pioglitazone",
          "change",
          "diabetesMed",
          "readmitted",
          "race_age_gender",
          "num_medications_log",
          "level1_diag1",
          "level2_diag1",
          "level1_diag2",
          "level2_diag2",
          "level1_diag3",
          "level2_diag3"
         ],
         "y": [
          0,
          0,
          0,
          0,
          0,
          0,
          0,
          0,
          0,
          0,
          0,
          0,
          0,
          0,
          0,
          0,
          0,
          0,
          0,
          0,
          0,
          0,
          0,
          0,
          0,
          0,
          0,
          0,
          0,
          0,
          0,
          0,
          0,
          0,
          0,
          0,
          0,
          0,
          0,
          0,
          0,
          0,
          0,
          0,
          0,
          0,
          0,
          0,
          0,
          0,
          0,
          0,
          0,
          0,
          0,
          0,
          0,
          0
         ]
        }
       ],
       "layout": {
        "template": {
         "data": {
          "bar": [
           {
            "error_x": {
             "color": "#2a3f5f"
            },
            "error_y": {
             "color": "#2a3f5f"
            },
            "marker": {
             "line": {
              "color": "#E5ECF6",
              "width": 0.5
             }
            },
            "type": "bar"
           }
          ],
          "barpolar": [
           {
            "marker": {
             "line": {
              "color": "#E5ECF6",
              "width": 0.5
             }
            },
            "type": "barpolar"
           }
          ],
          "carpet": [
           {
            "aaxis": {
             "endlinecolor": "#2a3f5f",
             "gridcolor": "white",
             "linecolor": "white",
             "minorgridcolor": "white",
             "startlinecolor": "#2a3f5f"
            },
            "baxis": {
             "endlinecolor": "#2a3f5f",
             "gridcolor": "white",
             "linecolor": "white",
             "minorgridcolor": "white",
             "startlinecolor": "#2a3f5f"
            },
            "type": "carpet"
           }
          ],
          "choropleth": [
           {
            "colorbar": {
             "outlinewidth": 0,
             "ticks": ""
            },
            "type": "choropleth"
           }
          ],
          "contour": [
           {
            "colorbar": {
             "outlinewidth": 0,
             "ticks": ""
            },
            "colorscale": [
             [
              0,
              "#0d0887"
             ],
             [
              0.1111111111111111,
              "#46039f"
             ],
             [
              0.2222222222222222,
              "#7201a8"
             ],
             [
              0.3333333333333333,
              "#9c179e"
             ],
             [
              0.4444444444444444,
              "#bd3786"
             ],
             [
              0.5555555555555556,
              "#d8576b"
             ],
             [
              0.6666666666666666,
              "#ed7953"
             ],
             [
              0.7777777777777778,
              "#fb9f3a"
             ],
             [
              0.8888888888888888,
              "#fdca26"
             ],
             [
              1,
              "#f0f921"
             ]
            ],
            "type": "contour"
           }
          ],
          "contourcarpet": [
           {
            "colorbar": {
             "outlinewidth": 0,
             "ticks": ""
            },
            "type": "contourcarpet"
           }
          ],
          "heatmap": [
           {
            "colorbar": {
             "outlinewidth": 0,
             "ticks": ""
            },
            "colorscale": [
             [
              0,
              "#0d0887"
             ],
             [
              0.1111111111111111,
              "#46039f"
             ],
             [
              0.2222222222222222,
              "#7201a8"
             ],
             [
              0.3333333333333333,
              "#9c179e"
             ],
             [
              0.4444444444444444,
              "#bd3786"
             ],
             [
              0.5555555555555556,
              "#d8576b"
             ],
             [
              0.6666666666666666,
              "#ed7953"
             ],
             [
              0.7777777777777778,
              "#fb9f3a"
             ],
             [
              0.8888888888888888,
              "#fdca26"
             ],
             [
              1,
              "#f0f921"
             ]
            ],
            "type": "heatmap"
           }
          ],
          "heatmapgl": [
           {
            "colorbar": {
             "outlinewidth": 0,
             "ticks": ""
            },
            "colorscale": [
             [
              0,
              "#0d0887"
             ],
             [
              0.1111111111111111,
              "#46039f"
             ],
             [
              0.2222222222222222,
              "#7201a8"
             ],
             [
              0.3333333333333333,
              "#9c179e"
             ],
             [
              0.4444444444444444,
              "#bd3786"
             ],
             [
              0.5555555555555556,
              "#d8576b"
             ],
             [
              0.6666666666666666,
              "#ed7953"
             ],
             [
              0.7777777777777778,
              "#fb9f3a"
             ],
             [
              0.8888888888888888,
              "#fdca26"
             ],
             [
              1,
              "#f0f921"
             ]
            ],
            "type": "heatmapgl"
           }
          ],
          "histogram": [
           {
            "marker": {
             "colorbar": {
              "outlinewidth": 0,
              "ticks": ""
             }
            },
            "type": "histogram"
           }
          ],
          "histogram2d": [
           {
            "colorbar": {
             "outlinewidth": 0,
             "ticks": ""
            },
            "colorscale": [
             [
              0,
              "#0d0887"
             ],
             [
              0.1111111111111111,
              "#46039f"
             ],
             [
              0.2222222222222222,
              "#7201a8"
             ],
             [
              0.3333333333333333,
              "#9c179e"
             ],
             [
              0.4444444444444444,
              "#bd3786"
             ],
             [
              0.5555555555555556,
              "#d8576b"
             ],
             [
              0.6666666666666666,
              "#ed7953"
             ],
             [
              0.7777777777777778,
              "#fb9f3a"
             ],
             [
              0.8888888888888888,
              "#fdca26"
             ],
             [
              1,
              "#f0f921"
             ]
            ],
            "type": "histogram2d"
           }
          ],
          "histogram2dcontour": [
           {
            "colorbar": {
             "outlinewidth": 0,
             "ticks": ""
            },
            "colorscale": [
             [
              0,
              "#0d0887"
             ],
             [
              0.1111111111111111,
              "#46039f"
             ],
             [
              0.2222222222222222,
              "#7201a8"
             ],
             [
              0.3333333333333333,
              "#9c179e"
             ],
             [
              0.4444444444444444,
              "#bd3786"
             ],
             [
              0.5555555555555556,
              "#d8576b"
             ],
             [
              0.6666666666666666,
              "#ed7953"
             ],
             [
              0.7777777777777778,
              "#fb9f3a"
             ],
             [
              0.8888888888888888,
              "#fdca26"
             ],
             [
              1,
              "#f0f921"
             ]
            ],
            "type": "histogram2dcontour"
           }
          ],
          "mesh3d": [
           {
            "colorbar": {
             "outlinewidth": 0,
             "ticks": ""
            },
            "type": "mesh3d"
           }
          ],
          "parcoords": [
           {
            "line": {
             "colorbar": {
              "outlinewidth": 0,
              "ticks": ""
             }
            },
            "type": "parcoords"
           }
          ],
          "scatter": [
           {
            "marker": {
             "colorbar": {
              "outlinewidth": 0,
              "ticks": ""
             }
            },
            "type": "scatter"
           }
          ],
          "scatter3d": [
           {
            "line": {
             "colorbar": {
              "outlinewidth": 0,
              "ticks": ""
             }
            },
            "marker": {
             "colorbar": {
              "outlinewidth": 0,
              "ticks": ""
             }
            },
            "type": "scatter3d"
           }
          ],
          "scattercarpet": [
           {
            "marker": {
             "colorbar": {
              "outlinewidth": 0,
              "ticks": ""
             }
            },
            "type": "scattercarpet"
           }
          ],
          "scattergeo": [
           {
            "marker": {
             "colorbar": {
              "outlinewidth": 0,
              "ticks": ""
             }
            },
            "type": "scattergeo"
           }
          ],
          "scattergl": [
           {
            "marker": {
             "colorbar": {
              "outlinewidth": 0,
              "ticks": ""
             }
            },
            "type": "scattergl"
           }
          ],
          "scattermapbox": [
           {
            "marker": {
             "colorbar": {
              "outlinewidth": 0,
              "ticks": ""
             }
            },
            "type": "scattermapbox"
           }
          ],
          "scatterpolar": [
           {
            "marker": {
             "colorbar": {
              "outlinewidth": 0,
              "ticks": ""
             }
            },
            "type": "scatterpolar"
           }
          ],
          "scatterpolargl": [
           {
            "marker": {
             "colorbar": {
              "outlinewidth": 0,
              "ticks": ""
             }
            },
            "type": "scatterpolargl"
           }
          ],
          "scatterternary": [
           {
            "marker": {
             "colorbar": {
              "outlinewidth": 0,
              "ticks": ""
             }
            },
            "type": "scatterternary"
           }
          ],
          "surface": [
           {
            "colorbar": {
             "outlinewidth": 0,
             "ticks": ""
            },
            "colorscale": [
             [
              0,
              "#0d0887"
             ],
             [
              0.1111111111111111,
              "#46039f"
             ],
             [
              0.2222222222222222,
              "#7201a8"
             ],
             [
              0.3333333333333333,
              "#9c179e"
             ],
             [
              0.4444444444444444,
              "#bd3786"
             ],
             [
              0.5555555555555556,
              "#d8576b"
             ],
             [
              0.6666666666666666,
              "#ed7953"
             ],
             [
              0.7777777777777778,
              "#fb9f3a"
             ],
             [
              0.8888888888888888,
              "#fdca26"
             ],
             [
              1,
              "#f0f921"
             ]
            ],
            "type": "surface"
           }
          ],
          "table": [
           {
            "cells": {
             "fill": {
              "color": "#EBF0F8"
             },
             "line": {
              "color": "white"
             }
            },
            "header": {
             "fill": {
              "color": "#C8D4E3"
             },
             "line": {
              "color": "white"
             }
            },
            "type": "table"
           }
          ]
         },
         "layout": {
          "annotationdefaults": {
           "arrowcolor": "#2a3f5f",
           "arrowhead": 0,
           "arrowwidth": 1
          },
          "colorscale": {
           "diverging": [
            [
             0,
             "#8e0152"
            ],
            [
             0.1,
             "#c51b7d"
            ],
            [
             0.2,
             "#de77ae"
            ],
            [
             0.3,
             "#f1b6da"
            ],
            [
             0.4,
             "#fde0ef"
            ],
            [
             0.5,
             "#f7f7f7"
            ],
            [
             0.6,
             "#e6f5d0"
            ],
            [
             0.7,
             "#b8e186"
            ],
            [
             0.8,
             "#7fbc41"
            ],
            [
             0.9,
             "#4d9221"
            ],
            [
             1,
             "#276419"
            ]
           ],
           "sequential": [
            [
             0,
             "#0d0887"
            ],
            [
             0.1111111111111111,
             "#46039f"
            ],
            [
             0.2222222222222222,
             "#7201a8"
            ],
            [
             0.3333333333333333,
             "#9c179e"
            ],
            [
             0.4444444444444444,
             "#bd3786"
            ],
            [
             0.5555555555555556,
             "#d8576b"
            ],
            [
             0.6666666666666666,
             "#ed7953"
            ],
            [
             0.7777777777777778,
             "#fb9f3a"
            ],
            [
             0.8888888888888888,
             "#fdca26"
            ],
            [
             1,
             "#f0f921"
            ]
           ],
           "sequentialminus": [
            [
             0,
             "#0d0887"
            ],
            [
             0.1111111111111111,
             "#46039f"
            ],
            [
             0.2222222222222222,
             "#7201a8"
            ],
            [
             0.3333333333333333,
             "#9c179e"
            ],
            [
             0.4444444444444444,
             "#bd3786"
            ],
            [
             0.5555555555555556,
             "#d8576b"
            ],
            [
             0.6666666666666666,
             "#ed7953"
            ],
            [
             0.7777777777777778,
             "#fb9f3a"
            ],
            [
             0.8888888888888888,
             "#fdca26"
            ],
            [
             1,
             "#f0f921"
            ]
           ]
          },
          "colorway": [
           "#636efa",
           "#EF553B",
           "#00cc96",
           "#ab63fa",
           "#FFA15A",
           "#19d3f3",
           "#FF6692",
           "#B6E880",
           "#FF97FF",
           "#FECB52"
          ],
          "font": {
           "color": "#2a3f5f"
          },
          "geo": {
           "bgcolor": "white",
           "lakecolor": "white",
           "landcolor": "#E5ECF6",
           "showlakes": true,
           "showland": true,
           "subunitcolor": "white"
          },
          "hoverlabel": {
           "align": "left"
          },
          "hovermode": "closest",
          "mapbox": {
           "style": "light"
          },
          "paper_bgcolor": "white",
          "plot_bgcolor": "#E5ECF6",
          "polar": {
           "angularaxis": {
            "gridcolor": "white",
            "linecolor": "white",
            "ticks": ""
           },
           "bgcolor": "#E5ECF6",
           "radialaxis": {
            "gridcolor": "white",
            "linecolor": "white",
            "ticks": ""
           }
          },
          "scene": {
           "xaxis": {
            "backgroundcolor": "#E5ECF6",
            "gridcolor": "white",
            "gridwidth": 2,
            "linecolor": "white",
            "showbackground": true,
            "ticks": "",
            "zerolinecolor": "white"
           },
           "yaxis": {
            "backgroundcolor": "#E5ECF6",
            "gridcolor": "white",
            "gridwidth": 2,
            "linecolor": "white",
            "showbackground": true,
            "ticks": "",
            "zerolinecolor": "white"
           },
           "zaxis": {
            "backgroundcolor": "#E5ECF6",
            "gridcolor": "white",
            "gridwidth": 2,
            "linecolor": "white",
            "showbackground": true,
            "ticks": "",
            "zerolinecolor": "white"
           }
          },
          "shapedefaults": {
           "line": {
            "color": "#2a3f5f"
           }
          },
          "ternary": {
           "aaxis": {
            "gridcolor": "white",
            "linecolor": "white",
            "ticks": ""
           },
           "baxis": {
            "gridcolor": "white",
            "linecolor": "white",
            "ticks": ""
           },
           "bgcolor": "#E5ECF6",
           "caxis": {
            "gridcolor": "white",
            "linecolor": "white",
            "ticks": ""
           }
          },
          "title": {
           "x": 0.05
          },
          "xaxis": {
           "automargin": true,
           "gridcolor": "white",
           "linecolor": "white",
           "ticks": "",
           "zerolinecolor": "white",
           "zerolinewidth": 2
          },
          "yaxis": {
           "automargin": true,
           "gridcolor": "white",
           "linecolor": "white",
           "ticks": "",
           "zerolinecolor": "white",
           "zerolinewidth": 2
          }
         }
        },
        "title": {
         "text": "Feature counts | Total number of rows=96446"
        },
        "xaxis": {
         "title": {
          "text": "Features"
         }
        },
        "yaxis": {
         "title": {
          "text": "Log(Number of unique values)"
         }
        }
       }
      },
      "text/html": [
       "<div>\n",
       "        \n",
       "        \n",
       "            <div id=\"ce3b15b3-0ade-489e-8bfc-2e0cfe6abc33\" class=\"plotly-graph-div\" style=\"height:525px; width:100%;\"></div>\n",
       "            <script type=\"text/javascript\">\n",
       "                require([\"plotly\"], function(Plotly) {\n",
       "                    window.PLOTLYENV=window.PLOTLYENV || {};\n",
       "                    \n",
       "                if (document.getElementById(\"ce3b15b3-0ade-489e-8bfc-2e0cfe6abc33\")) {\n",
       "                    Plotly.newPlot(\n",
       "                        'ce3b15b3-0ade-489e-8bfc-2e0cfe6abc33',\n",
       "                        [{\"type\": \"bar\", \"x\": [\"encounter_id\", \"patient_nbr\", \"race\", \"gender\", \"age\", \"weight\", \"admission_type_id\", \"discharge_disposition_id\", \"admission_source_id\", \"time_in_hospital\", \"payer_code\", \"medical_specialty\", \"num_lab_procedures\", \"num_procedures\", \"num_medications\", \"number_outpatient\", \"number_emergency\", \"number_inpatient\", \"diag_1\", \"diag_2\", \"diag_3\", \"number_diagnoses\", \"max_glu_serum\", \"A1Cresult\", \"metformin\", \"repaglinide\", \"nateglinide\", \"chlorpropamide\", \"glimepiride\", \"acetohexamide\", \"glipizide\", \"glyburide\", \"tolbutamide\", \"pioglitazone\", \"rosiglitazone\", \"acarbose\", \"miglitol\", \"troglitazone\", \"tolazamide\", \"examide\", \"citoglipton\", \"insulin\", \"glyburide-metformin\", \"glipizide-metformin\", \"glimepiride-pioglitazone\", \"metformin-rosiglitazone\", \"metformin-pioglitazone\", \"change\", \"diabetesMed\", \"readmitted\", \"race_age_gender\", \"num_medications_log\", \"level1_diag1\", \"level2_diag1\", \"level1_diag2\", \"level2_diag2\", \"level1_diag3\", \"level2_diag3\"], \"y\": [96446, 96446, 96446, 96446, 96446, 96446, 96446, 96446, 96446, 96446, 96446, 96446, 96446, 96446, 96446, 96446, 96446, 96446, 96446, 96446, 96446, 96446, 96446, 96446, 96446, 96446, 96446, 96446, 96446, 96446, 96446, 96446, 96446, 96446, 96446, 96446, 96446, 96446, 96446, 96446, 96446, 96446, 96446, 96446, 96446, 96446, 96446, 96446, 96446, 96446, 96446, 96446, 96446, 96446, 96446, 96446, 96446, 96446]}, {\"type\": \"bar\", \"x\": [\"encounter_id\", \"patient_nbr\", \"race\", \"gender\", \"age\", \"weight\", \"admission_type_id\", \"discharge_disposition_id\", \"admission_source_id\", \"time_in_hospital\", \"payer_code\", \"medical_specialty\", \"num_lab_procedures\", \"num_procedures\", \"num_medications\", \"number_outpatient\", \"number_emergency\", \"number_inpatient\", \"diag_1\", \"diag_2\", \"diag_3\", \"number_diagnoses\", \"max_glu_serum\", \"A1Cresult\", \"metformin\", \"repaglinide\", \"nateglinide\", \"chlorpropamide\", \"glimepiride\", \"acetohexamide\", \"glipizide\", \"glyburide\", \"tolbutamide\", \"pioglitazone\", \"rosiglitazone\", \"acarbose\", \"miglitol\", \"troglitazone\", \"tolazamide\", \"examide\", \"citoglipton\", \"insulin\", \"glyburide-metformin\", \"glipizide-metformin\", \"glimepiride-pioglitazone\", \"metformin-rosiglitazone\", \"metformin-pioglitazone\", \"change\", \"diabetesMed\", \"readmitted\", \"race_age_gender\", \"num_medications_log\", \"level1_diag1\", \"level2_diag1\", \"level1_diag2\", \"level2_diag2\", \"level1_diag3\", \"level2_diag3\"], \"y\": [0, 0, 0, 0, 0, 0, 0, 0, 0, 0, 0, 0, 0, 0, 0, 0, 0, 0, 0, 0, 0, 0, 0, 0, 0, 0, 0, 0, 0, 0, 0, 0, 0, 0, 0, 0, 0, 0, 0, 0, 0, 0, 0, 0, 0, 0, 0, 0, 0, 0, 0, 0, 0, 0, 0, 0, 0, 0]}],\n",
       "                        {\"template\": {\"data\": {\"bar\": [{\"error_x\": {\"color\": \"#2a3f5f\"}, \"error_y\": {\"color\": \"#2a3f5f\"}, \"marker\": {\"line\": {\"color\": \"#E5ECF6\", \"width\": 0.5}}, \"type\": \"bar\"}], \"barpolar\": [{\"marker\": {\"line\": {\"color\": \"#E5ECF6\", \"width\": 0.5}}, \"type\": \"barpolar\"}], \"carpet\": [{\"aaxis\": {\"endlinecolor\": \"#2a3f5f\", \"gridcolor\": \"white\", \"linecolor\": \"white\", \"minorgridcolor\": \"white\", \"startlinecolor\": \"#2a3f5f\"}, \"baxis\": {\"endlinecolor\": \"#2a3f5f\", \"gridcolor\": \"white\", \"linecolor\": \"white\", \"minorgridcolor\": \"white\", \"startlinecolor\": \"#2a3f5f\"}, \"type\": \"carpet\"}], \"choropleth\": [{\"colorbar\": {\"outlinewidth\": 0, \"ticks\": \"\"}, \"type\": \"choropleth\"}], \"contour\": [{\"colorbar\": {\"outlinewidth\": 0, \"ticks\": \"\"}, \"colorscale\": [[0.0, \"#0d0887\"], [0.1111111111111111, \"#46039f\"], [0.2222222222222222, \"#7201a8\"], [0.3333333333333333, \"#9c179e\"], [0.4444444444444444, \"#bd3786\"], [0.5555555555555556, \"#d8576b\"], [0.6666666666666666, \"#ed7953\"], [0.7777777777777778, \"#fb9f3a\"], [0.8888888888888888, \"#fdca26\"], [1.0, \"#f0f921\"]], \"type\": \"contour\"}], \"contourcarpet\": [{\"colorbar\": {\"outlinewidth\": 0, \"ticks\": \"\"}, \"type\": \"contourcarpet\"}], \"heatmap\": [{\"colorbar\": {\"outlinewidth\": 0, \"ticks\": \"\"}, \"colorscale\": [[0.0, \"#0d0887\"], [0.1111111111111111, \"#46039f\"], [0.2222222222222222, \"#7201a8\"], [0.3333333333333333, \"#9c179e\"], [0.4444444444444444, \"#bd3786\"], [0.5555555555555556, \"#d8576b\"], [0.6666666666666666, \"#ed7953\"], [0.7777777777777778, \"#fb9f3a\"], [0.8888888888888888, \"#fdca26\"], [1.0, \"#f0f921\"]], \"type\": \"heatmap\"}], \"heatmapgl\": [{\"colorbar\": {\"outlinewidth\": 0, \"ticks\": \"\"}, \"colorscale\": [[0.0, \"#0d0887\"], [0.1111111111111111, \"#46039f\"], [0.2222222222222222, \"#7201a8\"], [0.3333333333333333, \"#9c179e\"], [0.4444444444444444, \"#bd3786\"], [0.5555555555555556, \"#d8576b\"], [0.6666666666666666, \"#ed7953\"], [0.7777777777777778, \"#fb9f3a\"], [0.8888888888888888, \"#fdca26\"], [1.0, \"#f0f921\"]], \"type\": \"heatmapgl\"}], \"histogram\": [{\"marker\": {\"colorbar\": {\"outlinewidth\": 0, \"ticks\": \"\"}}, \"type\": \"histogram\"}], \"histogram2d\": [{\"colorbar\": {\"outlinewidth\": 0, \"ticks\": \"\"}, \"colorscale\": [[0.0, \"#0d0887\"], [0.1111111111111111, \"#46039f\"], [0.2222222222222222, \"#7201a8\"], [0.3333333333333333, \"#9c179e\"], [0.4444444444444444, \"#bd3786\"], [0.5555555555555556, \"#d8576b\"], [0.6666666666666666, \"#ed7953\"], [0.7777777777777778, \"#fb9f3a\"], [0.8888888888888888, \"#fdca26\"], [1.0, \"#f0f921\"]], \"type\": \"histogram2d\"}], \"histogram2dcontour\": [{\"colorbar\": {\"outlinewidth\": 0, \"ticks\": \"\"}, \"colorscale\": [[0.0, \"#0d0887\"], [0.1111111111111111, \"#46039f\"], [0.2222222222222222, \"#7201a8\"], [0.3333333333333333, \"#9c179e\"], [0.4444444444444444, \"#bd3786\"], [0.5555555555555556, \"#d8576b\"], [0.6666666666666666, \"#ed7953\"], [0.7777777777777778, \"#fb9f3a\"], [0.8888888888888888, \"#fdca26\"], [1.0, \"#f0f921\"]], \"type\": \"histogram2dcontour\"}], \"mesh3d\": [{\"colorbar\": {\"outlinewidth\": 0, \"ticks\": \"\"}, \"type\": \"mesh3d\"}], \"parcoords\": [{\"line\": {\"colorbar\": {\"outlinewidth\": 0, \"ticks\": \"\"}}, \"type\": \"parcoords\"}], \"scatter\": [{\"marker\": {\"colorbar\": {\"outlinewidth\": 0, \"ticks\": \"\"}}, \"type\": \"scatter\"}], \"scatter3d\": [{\"line\": {\"colorbar\": {\"outlinewidth\": 0, \"ticks\": \"\"}}, \"marker\": {\"colorbar\": {\"outlinewidth\": 0, \"ticks\": \"\"}}, \"type\": \"scatter3d\"}], \"scattercarpet\": [{\"marker\": {\"colorbar\": {\"outlinewidth\": 0, \"ticks\": \"\"}}, \"type\": \"scattercarpet\"}], \"scattergeo\": [{\"marker\": {\"colorbar\": {\"outlinewidth\": 0, \"ticks\": \"\"}}, \"type\": \"scattergeo\"}], \"scattergl\": [{\"marker\": {\"colorbar\": {\"outlinewidth\": 0, \"ticks\": \"\"}}, \"type\": \"scattergl\"}], \"scattermapbox\": [{\"marker\": {\"colorbar\": {\"outlinewidth\": 0, \"ticks\": \"\"}}, \"type\": \"scattermapbox\"}], \"scatterpolar\": [{\"marker\": {\"colorbar\": {\"outlinewidth\": 0, \"ticks\": \"\"}}, \"type\": \"scatterpolar\"}], \"scatterpolargl\": [{\"marker\": {\"colorbar\": {\"outlinewidth\": 0, \"ticks\": \"\"}}, \"type\": \"scatterpolargl\"}], \"scatterternary\": [{\"marker\": {\"colorbar\": {\"outlinewidth\": 0, \"ticks\": \"\"}}, \"type\": \"scatterternary\"}], \"surface\": [{\"colorbar\": {\"outlinewidth\": 0, \"ticks\": \"\"}, \"colorscale\": [[0.0, \"#0d0887\"], [0.1111111111111111, \"#46039f\"], [0.2222222222222222, \"#7201a8\"], [0.3333333333333333, \"#9c179e\"], [0.4444444444444444, \"#bd3786\"], [0.5555555555555556, \"#d8576b\"], [0.6666666666666666, \"#ed7953\"], [0.7777777777777778, \"#fb9f3a\"], [0.8888888888888888, \"#fdca26\"], [1.0, \"#f0f921\"]], \"type\": \"surface\"}], \"table\": [{\"cells\": {\"fill\": {\"color\": \"#EBF0F8\"}, \"line\": {\"color\": \"white\"}}, \"header\": {\"fill\": {\"color\": \"#C8D4E3\"}, \"line\": {\"color\": \"white\"}}, \"type\": \"table\"}]}, \"layout\": {\"annotationdefaults\": {\"arrowcolor\": \"#2a3f5f\", \"arrowhead\": 0, \"arrowwidth\": 1}, \"colorscale\": {\"diverging\": [[0, \"#8e0152\"], [0.1, \"#c51b7d\"], [0.2, \"#de77ae\"], [0.3, \"#f1b6da\"], [0.4, \"#fde0ef\"], [0.5, \"#f7f7f7\"], [0.6, \"#e6f5d0\"], [0.7, \"#b8e186\"], [0.8, \"#7fbc41\"], [0.9, \"#4d9221\"], [1, \"#276419\"]], \"sequential\": [[0.0, \"#0d0887\"], [0.1111111111111111, \"#46039f\"], [0.2222222222222222, \"#7201a8\"], [0.3333333333333333, \"#9c179e\"], [0.4444444444444444, \"#bd3786\"], [0.5555555555555556, \"#d8576b\"], [0.6666666666666666, \"#ed7953\"], [0.7777777777777778, \"#fb9f3a\"], [0.8888888888888888, \"#fdca26\"], [1.0, \"#f0f921\"]], \"sequentialminus\": [[0.0, \"#0d0887\"], [0.1111111111111111, \"#46039f\"], [0.2222222222222222, \"#7201a8\"], [0.3333333333333333, \"#9c179e\"], [0.4444444444444444, \"#bd3786\"], [0.5555555555555556, \"#d8576b\"], [0.6666666666666666, \"#ed7953\"], [0.7777777777777778, \"#fb9f3a\"], [0.8888888888888888, \"#fdca26\"], [1.0, \"#f0f921\"]]}, \"colorway\": [\"#636efa\", \"#EF553B\", \"#00cc96\", \"#ab63fa\", \"#FFA15A\", \"#19d3f3\", \"#FF6692\", \"#B6E880\", \"#FF97FF\", \"#FECB52\"], \"font\": {\"color\": \"#2a3f5f\"}, \"geo\": {\"bgcolor\": \"white\", \"lakecolor\": \"white\", \"landcolor\": \"#E5ECF6\", \"showlakes\": true, \"showland\": true, \"subunitcolor\": \"white\"}, \"hoverlabel\": {\"align\": \"left\"}, \"hovermode\": \"closest\", \"mapbox\": {\"style\": \"light\"}, \"paper_bgcolor\": \"white\", \"plot_bgcolor\": \"#E5ECF6\", \"polar\": {\"angularaxis\": {\"gridcolor\": \"white\", \"linecolor\": \"white\", \"ticks\": \"\"}, \"bgcolor\": \"#E5ECF6\", \"radialaxis\": {\"gridcolor\": \"white\", \"linecolor\": \"white\", \"ticks\": \"\"}}, \"scene\": {\"xaxis\": {\"backgroundcolor\": \"#E5ECF6\", \"gridcolor\": \"white\", \"gridwidth\": 2, \"linecolor\": \"white\", \"showbackground\": true, \"ticks\": \"\", \"zerolinecolor\": \"white\"}, \"yaxis\": {\"backgroundcolor\": \"#E5ECF6\", \"gridcolor\": \"white\", \"gridwidth\": 2, \"linecolor\": \"white\", \"showbackground\": true, \"ticks\": \"\", \"zerolinecolor\": \"white\"}, \"zaxis\": {\"backgroundcolor\": \"#E5ECF6\", \"gridcolor\": \"white\", \"gridwidth\": 2, \"linecolor\": \"white\", \"showbackground\": true, \"ticks\": \"\", \"zerolinecolor\": \"white\"}}, \"shapedefaults\": {\"line\": {\"color\": \"#2a3f5f\"}}, \"ternary\": {\"aaxis\": {\"gridcolor\": \"white\", \"linecolor\": \"white\", \"ticks\": \"\"}, \"baxis\": {\"gridcolor\": \"white\", \"linecolor\": \"white\", \"ticks\": \"\"}, \"bgcolor\": \"#E5ECF6\", \"caxis\": {\"gridcolor\": \"white\", \"linecolor\": \"white\", \"ticks\": \"\"}}, \"title\": {\"x\": 0.05}, \"xaxis\": {\"automargin\": true, \"gridcolor\": \"white\", \"linecolor\": \"white\", \"ticks\": \"\", \"zerolinecolor\": \"white\", \"zerolinewidth\": 2}, \"yaxis\": {\"automargin\": true, \"gridcolor\": \"white\", \"linecolor\": \"white\", \"ticks\": \"\", \"zerolinecolor\": \"white\", \"zerolinewidth\": 2}}}, \"title\": {\"text\": \"Feature counts | Total number of rows=96446\"}, \"xaxis\": {\"title\": {\"text\": \"Features\"}}, \"yaxis\": {\"title\": {\"text\": \"Log(Number of unique values)\"}}},\n",
       "                        {\"responsive\": true}\n",
       "                    ).then(function(){\n",
       "                            \n",
       "var gd = document.getElementById('ce3b15b3-0ade-489e-8bfc-2e0cfe6abc33');\n",
       "var x = new MutationObserver(function (mutations, observer) {{\n",
       "        var display = window.getComputedStyle(gd).display;\n",
       "        if (!display || display === 'none') {{\n",
       "            console.log([gd, 'removed!']);\n",
       "            Plotly.purge(gd);\n",
       "            observer.disconnect();\n",
       "        }}\n",
       "}});\n",
       "\n",
       "// Listen for the removal of the full notebook cells\n",
       "var notebookContainer = gd.closest('#notebook-container');\n",
       "if (notebookContainer) {{\n",
       "    x.observe(notebookContainer, {childList: true});\n",
       "}}\n",
       "\n",
       "// Listen for the clearing of the current output cell\n",
       "var outputEl = gd.closest('.output');\n",
       "if (outputEl) {{\n",
       "    x.observe(outputEl, {childList: true});\n",
       "}}\n",
       "\n",
       "                        })\n",
       "                };\n",
       "                });\n",
       "            </script>\n",
       "        </div>"
      ]
     },
     "metadata": {},
     "output_type": "display_data"
    }
   ],
   "source": [
    "EDA = ExploratoryDataAnalysis(data)\n",
    "EDA.plot_class_counts()\n",
    "EDA.plot_class_count()\n",
    "EDA.plot_missing_count()"
   ]
  },
  {
   "cell_type": "code",
   "execution_count": 21,
   "metadata": {},
   "outputs": [],
   "source": [
    "from sklearn.preprocessing import LabelEncoder,OneHotEncoder\n",
    "from sklearn.feature_extraction.text import CountVectorizer\n",
    "from scipy.sparse import hstack,vstack\n",
    "\n",
    "    \n",
    "class OneHotEncoderWithFeaturePrunning:\n",
    "    def __init__(self,threshold_count=500,dummy_variable=\"UNK\"):\n",
    "        self.enc = CountVectorizer(analyzer='char_wb',lowercase=False)\n",
    "        self.frequency_map = {}\n",
    "        self.threshold_count = threshold_count\n",
    "        \n",
    "        \n",
    "    def fit(self,data):\n",
    "        map(self._process_frequencies,enumerate(data))\n",
    "        map(self._process_rare_data,enumerate(data))\n",
    "        return self.enc.fit(data)\n",
    "        \n",
    "    def _process_frequencies(self,data,index):\n",
    "        if(data[index] not in self.frequency_map):\n",
    "            self.frequency_map[data[index]] = 1\n",
    "        else:\n",
    "            self.frequency_map[data[index]] = self.frequency_map[data[index]] + 1\n",
    "            \n",
    "    def _process_rare_data(self,data,index):\n",
    "        if(self.frequency_map[data[index]] <= self.threshold_count):\n",
    "            data[index] = self.dummy_variable\n",
    "            \n",
    "    def fit_transform(self,data):\n",
    "        map(self._process_frequencies,enumerate(data))\n",
    "        map(self._process_rare_data,enumerate(data))\n",
    "        return self.enc.fit_transform(data)\n",
    "    \n",
    "    def transform(self,data):\n",
    "        map(self._process_rare_data,enumerate(data))\n",
    "        return self.enc.transform(data)\n",
    "            \n",
    "    def get_encoder(self):\n",
    "        return self.enc\n",
    "    \n",
    "class FeatureEngineering:\n",
    "    categorical_indices={\n",
    "    \"race\":True,\n",
    "    \"gender\": True,\n",
    "    \"age\":True,\n",
    "    \"admission_type_id\":True,\n",
    "    \"discharge_disposition_id\":True,\n",
    "    \"admission_source_id\": True,\n",
    "    \"time_in_hospital\": False,\n",
    "#             \"medical_specialty\":True,\n",
    "    \"num_lab_procedures\":False,\n",
    "    \"num_procedures\":False,\n",
    "    \"num_medications\":False,\n",
    "    \"number_outpatient\":True,\n",
    "    \"number_emergency\":True,\n",
    "    \"number_inpatient\":True,\n",
    "    \"diag_1\":True,\n",
    "    \"diag_2\":True,\n",
    "    \"diag_3\":True,\n",
    "    \"number_diagnoses\":False,\n",
    "    \"max_glu_serum\":True,\n",
    "    \"A1Cresult\":True,\n",
    "    \"metformin\":True,\n",
    "    \"repaglinide\":True,\n",
    "    \"nateglinide\":True,\n",
    "    \"chlorpropamide\":True,\n",
    "    \"glimepiride\":True,\n",
    "    \"acetohexamide\":True,\n",
    "    \"glipizide\":True,\n",
    "    \"glyburide\":True,\n",
    "    \"tolbutamide\":True,\n",
    "    \"pioglitazone\":True,\n",
    "    \"rosiglitazone\":True,\n",
    "    \"acarbose\":True,\n",
    "    \"miglitol\":True,\n",
    "    \"troglitazone\":True,\n",
    "    \"tolazamide\":True,\n",
    "#             \"examide\":True,\n",
    "#             \"citoglipton\":True,\n",
    "    \"insulin\":True,\n",
    "    \"glyburide-metformin\":True,\n",
    "    \"glipizide-metformin\":True,\n",
    "    \"metformin-rosiglitazone\":True,\n",
    "    \"metformin-pioglitazone\":True,\n",
    "    \"change\":True,\n",
    "    \"diabetesMed\":True,\n",
    "#     \"race_age_gender\":True\n",
    "#             \"level2_diag3\":True,\n",
    "#             \"level2_diag1\":True,\n",
    "#             \"level2_diag2\":True\n",
    "}\n",
    "    def get_encoding(self,column):\n",
    "        categorical_encoder = OneHotEncoderWithFeaturePrunning()\n",
    "        return categorical_encoder.fit_transform(column.astype('str')), categorical_encoder\n",
    "    \n",
    "    def pre_process_columns(self,df):\n",
    "        df.admission_type_id = df.loc[:,['admission_type_id']].replace(2,1)\n",
    "        df.admission_type_id = df.loc[:,['admission_type_id']].replace(7,1)\n",
    "        df.admission_type_id = df.loc[:,['admission_type_id']].replace(6,5)\n",
    "        df.admission_type_id = df.loc[:,['admission_type_id']].replace(8,5)\n",
    "\n",
    "        df.discharge_disposition_id = df.loc[:,['discharge_disposition_id']].replace(6,1)\n",
    "        df.discharge_disposition_id = df.loc[:,['discharge_disposition_id']].replace(8,1)\n",
    "        df.discharge_disposition_id = df.loc[:,['discharge_disposition_id']].replace(9,1)\n",
    "        df.discharge_disposition_id = df.loc[:,['discharge_disposition_id']].replace(13,1)\n",
    "        df.discharge_disposition_id = df.loc[:,['discharge_disposition_id']].replace(3,2)\n",
    "        df.discharge_disposition_id = df.loc[:,['discharge_disposition_id']].replace(4,2)\n",
    "        df.discharge_disposition_id = df.loc[:,['discharge_disposition_id']].replace(5,2)\n",
    "        df.discharge_disposition_id = df.loc[:,['discharge_disposition_id']].replace(14,2)\n",
    "        df.discharge_disposition_id = df.loc[:,['discharge_disposition_id']].replace(22,2)\n",
    "        df.discharge_disposition_id = df.loc[:,['discharge_disposition_id']].replace(23,2)\n",
    "        df.discharge_disposition_id = df.loc[:,['discharge_disposition_id']].replace(24,2)\n",
    "        df.discharge_disposition_id = df.loc[:,['discharge_disposition_id']].replace(12,10)\n",
    "        df.discharge_disposition_id = df.loc[:,['discharge_disposition_id']].replace(15,10)\n",
    "        df.discharge_disposition_id = df.loc[:,['discharge_disposition_id']].replace(16,10)\n",
    "        df.discharge_disposition_id = df.loc[:,['discharge_disposition_id']].replace(17,10)\n",
    "        df.discharge_disposition_id = df.loc[:,['discharge_disposition_id']].replace(25,18)\n",
    "        df.discharge_disposition_id = df.loc[:,['discharge_disposition_id']].replace(26,18)\n",
    "\n",
    "        df.admission_source_id = df.loc[:,['admission_source_id']].replace(2,1)\n",
    "        df.admission_source_id = df.loc[:,['admission_source_id']].replace(3,1)\n",
    "        df.admission_source_id = df.loc[:,['admission_source_id']].replace(5,4)\n",
    "        df.admission_source_id = df.loc[:,['admission_source_id']].replace(6,4)\n",
    "        df.admission_source_id = df.loc[:,['admission_source_id']].replace(10,4)\n",
    "        df.admission_source_id = df.loc[:,['admission_source_id']].replace(22,4)\n",
    "        df.admission_source_id = df.loc[:,['admission_source_id']].replace(25,4)\n",
    "        df.admission_source_id = df.loc[:,['admission_source_id']].replace(15,9)\n",
    "        df.admission_source_id = df.loc[:,['admission_source_id']].replace(17,9)\n",
    "        df.admission_source_id = df.loc[:,['admission_source_id']].replace(20,9)\n",
    "        df.admission_source_id = df.loc[:,['admission_source_id']].replace(21,9)\n",
    "        df.admission_source_id = df.loc[:,['admission_source_id']].replace(13,11)\n",
    "        df.admission_source_id = df.loc[:,['admission_source_id']].replace(14,11)\n",
    "        return df\n",
    "        \n",
    "    \n",
    "    def fit(self,data,y):\n",
    "\n",
    "        x = None\n",
    "#         data = self.pre_process_columns(data)\n",
    "        self.encoder = {}\n",
    "        for label, column in data.items():\n",
    "            if(label in self.categorical_indices):\n",
    "                if(self.categorical_indices[label] == True):\n",
    "                    encoded_data,self.encoder[label] = self.get_encoding(column)\n",
    "                    x = encoded_data if x == None else hstack([x,encoded_data],format=\"csr\")\n",
    "                else:\n",
    "                    x = column if x == None else hstack([x,((pd.DataFrame(column.astype('float64'))).to_sparse())],format=\"csr\")\n",
    "        return x.toarray()\n",
    "    \n",
    "    def fit_transform(self,data,y):\n",
    "        return self.fit(data,y)\n",
    "    \n",
    "    def transform(self,data):\n",
    "        x = None\n",
    "#         data = self.pre_process_columns(data)\n",
    "        self.encoder = {}\n",
    "        for label, column in data.items():\n",
    "            if(label in self.categorical_indices):\n",
    "                if(self.categorical_indices[label] == True):\n",
    "                    encoded_data = (self.encoder[label]).transform(column.astype('str'))\n",
    "                    x = encoded_data if x == None else hstack([x,encoded_data])\n",
    "                else:\n",
    "                    x = column if x == None else hstack([x,(pd.DataFrame(column).to_sparse())])\n",
    "        return x.toarray()\n"
   ]
  },
  {
   "cell_type": "code",
   "execution_count": 22,
   "metadata": {},
   "outputs": [],
   "source": [
    "from sklearn.metrics import confusion_matrix\n",
    "%matplotlib inline\n",
    "import matplotlib.pyplot as plt\n",
    "import seaborn as sns\n",
    "from sklearn.metrics import precision_recall_curve\n",
    "from sklearn.metrics import classification_report\n",
    "from sklearn.metrics import roc_curve, auc\n",
    "from sklearn import metrics\n",
    "from inspect import signature\n",
    "from sklearn.metrics import average_precision_score\n",
    "\n",
    "def print_confusion_matrix(confusion_matrix, class_names, figsize = (6,2), fontsize=14):\n",
    "    df_cm = pd.DataFrame(confusion_matrix, index=class_names, columns=class_names)\n",
    "    fig = plt.figure(figsize=figsize)\n",
    "    try:\n",
    "        heatmap = sns.heatmap(df_cm, annot=True, fmt=\"d\")\n",
    "    except ValueError:\n",
    "        raise ValueError(\"Confusion matrix values must be integers.\")\n",
    "    heatmap.yaxis.set_ticklabels(heatmap.yaxis.get_ticklabels(), rotation=0, ha='right', fontsize=fontsize)\n",
    "    heatmap.xaxis.set_ticklabels(heatmap.xaxis.get_ticklabels(), rotation=45, ha='right', fontsize=fontsize)\n",
    "    plt.ylabel('True label')\n",
    "    plt.xlabel('Predicted label')\n",
    "    plt.show()\n",
    "\n",
    "def print_prauc(y_test,y_score):\n",
    "    average_precision = average_precision_score(y_test, y_score)\n",
    "\n",
    "    print('Average precision-recall score: {0:0.2f}'.format(\n",
    "      average_precision))\n",
    "    precision, recall, _ = precision_recall_curve(y_test, y_score)\n",
    "\n",
    "    # In matplotlib < 1.5, plt.fill_between does not have a 'step' argument\n",
    "    step_kwargs = ({'step': 'post'}\n",
    "               if 'step' in signature(plt.fill_between).parameters\n",
    "               else {})\n",
    "    plt.step(recall, precision, color='b', alpha=0.2,\n",
    "         where='post')\n",
    "    plt.fill_between(recall, precision, alpha=0.2, color='b', **step_kwargs)\n",
    "\n",
    "    plt.xlabel('Recall')\n",
    "    plt.ylabel('Precision')\n",
    "    plt.ylim([0.0, 1.05])\n",
    "    plt.xlim([0.0, 1.0])\n",
    "    plt.title('2-class Precision-Recall curve: AP={0:0.2f}'.format(\n",
    "          average_precision))\n",
    "    plt.show()\n",
    "\n",
    "    \n",
    "def print_raoc(y_test,y_score):\n",
    "    fpr, tpr, threshold = metrics.roc_curve(y_test, y_score)\n",
    "    roc_auc = metrics.auc(fpr, tpr)\n",
    "    plt.title('Receiver Operating Characteristic')\n",
    "    plt.plot(fpr, tpr, 'b', label = 'AUC = %0.2f' % roc_auc)\n",
    "    plt.legend(loc = 'lower right')\n",
    "    plt.plot([0, 1], [0, 1],'r--')\n",
    "    plt.xlim([0, 1])\n",
    "    plt.ylim([0, 1])\n",
    "    plt.ylabel('True Positive Rate')\n",
    "    plt.xlabel('False Positive Rate')\n",
    "    plt.show()\n",
    "    \n",
    "    \n",
    "def print_result(y_test1, y_pred1, y_pred_proba1=0):\n",
    "    cm = confusion_matrix(y_test1, y_pred1, labels=[0,1])\n",
    "    print_confusion_matrix(cm, [0, 1])\n",
    "    print(classification_report(y_test1, y_pred1))\n",
    "    \n",
    "from sklearn.metrics import confusion_matrix, classification_report\n",
    "def generate_results(clf,X_test,y_test):\n",
    "    pred = clf.predict(X_test)\n",
    "    print_result(y_test, pred)\n",
    "    score = clf.decision_function(X_test)\n",
    "    print_prauc(y_test, score)\n",
    "    print_raoc(y_test, score)"
   ]
  },
  {
   "cell_type": "code",
   "execution_count": 12,
   "metadata": {},
   "outputs": [
    {
     "data": {
      "text/plain": [
       "(67580, 58)"
      ]
     },
     "execution_count": 12,
     "metadata": {},
     "output_type": "execute_result"
    }
   ],
   "source": [
    "# Drop rows with repeat hospitalisation. Our task here is \n",
    "# to predict if the patient is going to be rehospitalised\n",
    "# for the first time\n",
    "data = data.drop_duplicates(subset= ['patient_nbr'], keep = 'first')\n",
    "data.shape"
   ]
  },
  {
   "cell_type": "code",
   "execution_count": 23,
   "metadata": {},
   "outputs": [
    {
     "name": "stderr",
     "output_type": "stream",
     "text": [
      "/opt/anaconda3/lib/python3.7/site-packages/ipykernel_launcher.py:146: FutureWarning:\n",
      "\n",
      "DataFrame.to_sparse is deprecated and will be removed in a future version\n",
      "\n",
      "/opt/anaconda3/lib/python3.7/site-packages/ipykernel_launcher.py:146: FutureWarning:\n",
      "\n",
      "DataFrame.to_sparse is deprecated and will be removed in a future version\n",
      "\n",
      "/opt/anaconda3/lib/python3.7/site-packages/ipykernel_launcher.py:146: FutureWarning:\n",
      "\n",
      "DataFrame.to_sparse is deprecated and will be removed in a future version\n",
      "\n",
      "/opt/anaconda3/lib/python3.7/site-packages/ipykernel_launcher.py:146: FutureWarning:\n",
      "\n",
      "DataFrame.to_sparse is deprecated and will be removed in a future version\n",
      "\n",
      "/opt/anaconda3/lib/python3.7/site-packages/ipykernel_launcher.py:146: FutureWarning:\n",
      "\n",
      "DataFrame.to_sparse is deprecated and will be removed in a future version\n",
      "\n",
      "/opt/anaconda3/lib/python3.7/site-packages/sklearn/linear_model/logistic.py:432: FutureWarning:\n",
      "\n",
      "Default solver will be changed to 'lbfgs' in 0.22. Specify a solver to silence this warning.\n",
      "\n"
     ]
    },
    {
     "ename": "KeyError",
     "evalue": "'race'",
     "output_type": "error",
     "traceback": [
      "\u001b[0;31m---------------------------------------------------------------------------\u001b[0m",
      "\u001b[0;31mKeyError\u001b[0m                                  Traceback (most recent call last)",
      "\u001b[0;32m<ipython-input-23-c766092f4a07>\u001b[0m in \u001b[0;36m<module>\u001b[0;34m\u001b[0m\n\u001b[1;32m     17\u001b[0m \u001b[0mpipeline\u001b[0m \u001b[0;34m=\u001b[0m \u001b[0mmake_pipeline\u001b[0m\u001b[0;34m(\u001b[0m\u001b[0mFeatureEngineering\u001b[0m\u001b[0;34m(\u001b[0m\u001b[0;34m)\u001b[0m\u001b[0;34m,\u001b[0m\u001b[0mlr\u001b[0m\u001b[0;34m)\u001b[0m\u001b[0;34m\u001b[0m\u001b[0;34m\u001b[0m\u001b[0m\n\u001b[1;32m     18\u001b[0m \u001b[0mpipeline\u001b[0m\u001b[0;34m.\u001b[0m\u001b[0mfit\u001b[0m\u001b[0;34m(\u001b[0m\u001b[0mX_train\u001b[0m\u001b[0;34m,\u001b[0m\u001b[0my_train\u001b[0m\u001b[0;34m)\u001b[0m\u001b[0;34m\u001b[0m\u001b[0;34m\u001b[0m\u001b[0m\n\u001b[0;32m---> 19\u001b[0;31m \u001b[0mpipeline\u001b[0m\u001b[0;34m.\u001b[0m\u001b[0mscore\u001b[0m\u001b[0;34m(\u001b[0m\u001b[0mX_train\u001b[0m\u001b[0;34m,\u001b[0m\u001b[0my_train\u001b[0m\u001b[0;34m)\u001b[0m\u001b[0;34m\u001b[0m\u001b[0;34m\u001b[0m\u001b[0m\n\u001b[0m\u001b[1;32m     20\u001b[0m \u001b[0mpipeline\u001b[0m\u001b[0;34m.\u001b[0m\u001b[0mscore\u001b[0m\u001b[0;34m(\u001b[0m\u001b[0mX_test\u001b[0m\u001b[0;34m,\u001b[0m\u001b[0my_test\u001b[0m\u001b[0;34m)\u001b[0m\u001b[0;34m\u001b[0m\u001b[0;34m\u001b[0m\u001b[0m\n",
      "\u001b[0;32m/opt/anaconda3/lib/python3.7/site-packages/sklearn/utils/metaestimators.py\u001b[0m in \u001b[0;36m<lambda>\u001b[0;34m(*args, **kwargs)\u001b[0m\n\u001b[1;32m    114\u001b[0m \u001b[0;34m\u001b[0m\u001b[0m\n\u001b[1;32m    115\u001b[0m         \u001b[0;31m# lambda, but not partial, allows help() to work with update_wrapper\u001b[0m\u001b[0;34m\u001b[0m\u001b[0;34m\u001b[0m\u001b[0;34m\u001b[0m\u001b[0m\n\u001b[0;32m--> 116\u001b[0;31m         \u001b[0mout\u001b[0m \u001b[0;34m=\u001b[0m \u001b[0;32mlambda\u001b[0m \u001b[0;34m*\u001b[0m\u001b[0margs\u001b[0m\u001b[0;34m,\u001b[0m \u001b[0;34m**\u001b[0m\u001b[0mkwargs\u001b[0m\u001b[0;34m:\u001b[0m \u001b[0mself\u001b[0m\u001b[0;34m.\u001b[0m\u001b[0mfn\u001b[0m\u001b[0;34m(\u001b[0m\u001b[0mobj\u001b[0m\u001b[0;34m,\u001b[0m \u001b[0;34m*\u001b[0m\u001b[0margs\u001b[0m\u001b[0;34m,\u001b[0m \u001b[0;34m**\u001b[0m\u001b[0mkwargs\u001b[0m\u001b[0;34m)\u001b[0m\u001b[0;34m\u001b[0m\u001b[0;34m\u001b[0m\u001b[0m\n\u001b[0m\u001b[1;32m    117\u001b[0m         \u001b[0;31m# update the docstring of the returned function\u001b[0m\u001b[0;34m\u001b[0m\u001b[0;34m\u001b[0m\u001b[0;34m\u001b[0m\u001b[0m\n\u001b[1;32m    118\u001b[0m         \u001b[0mupdate_wrapper\u001b[0m\u001b[0;34m(\u001b[0m\u001b[0mout\u001b[0m\u001b[0;34m,\u001b[0m \u001b[0mself\u001b[0m\u001b[0;34m.\u001b[0m\u001b[0mfn\u001b[0m\u001b[0;34m)\u001b[0m\u001b[0;34m\u001b[0m\u001b[0;34m\u001b[0m\u001b[0m\n",
      "\u001b[0;32m/opt/anaconda3/lib/python3.7/site-packages/sklearn/pipeline.py\u001b[0m in \u001b[0;36mscore\u001b[0;34m(self, X, y, sample_weight)\u001b[0m\n\u001b[1;32m    596\u001b[0m         \u001b[0mXt\u001b[0m \u001b[0;34m=\u001b[0m \u001b[0mX\u001b[0m\u001b[0;34m\u001b[0m\u001b[0;34m\u001b[0m\u001b[0m\n\u001b[1;32m    597\u001b[0m         \u001b[0;32mfor\u001b[0m \u001b[0m_\u001b[0m\u001b[0;34m,\u001b[0m \u001b[0mname\u001b[0m\u001b[0;34m,\u001b[0m \u001b[0mtransform\u001b[0m \u001b[0;32min\u001b[0m \u001b[0mself\u001b[0m\u001b[0;34m.\u001b[0m\u001b[0m_iter\u001b[0m\u001b[0;34m(\u001b[0m\u001b[0mwith_final\u001b[0m\u001b[0;34m=\u001b[0m\u001b[0;32mFalse\u001b[0m\u001b[0;34m)\u001b[0m\u001b[0;34m:\u001b[0m\u001b[0;34m\u001b[0m\u001b[0;34m\u001b[0m\u001b[0m\n\u001b[0;32m--> 598\u001b[0;31m             \u001b[0mXt\u001b[0m \u001b[0;34m=\u001b[0m \u001b[0mtransform\u001b[0m\u001b[0;34m.\u001b[0m\u001b[0mtransform\u001b[0m\u001b[0;34m(\u001b[0m\u001b[0mXt\u001b[0m\u001b[0;34m)\u001b[0m\u001b[0;34m\u001b[0m\u001b[0;34m\u001b[0m\u001b[0m\n\u001b[0m\u001b[1;32m    599\u001b[0m         \u001b[0mscore_params\u001b[0m \u001b[0;34m=\u001b[0m \u001b[0;34m{\u001b[0m\u001b[0;34m}\u001b[0m\u001b[0;34m\u001b[0m\u001b[0;34m\u001b[0m\u001b[0m\n\u001b[1;32m    600\u001b[0m         \u001b[0;32mif\u001b[0m \u001b[0msample_weight\u001b[0m \u001b[0;32mis\u001b[0m \u001b[0;32mnot\u001b[0m \u001b[0;32mNone\u001b[0m\u001b[0;34m:\u001b[0m\u001b[0;34m\u001b[0m\u001b[0;34m\u001b[0m\u001b[0m\n",
      "\u001b[0;32m<ipython-input-21-79aaf178dfeb>\u001b[0m in \u001b[0;36mtransform\u001b[0;34m(self, data)\u001b[0m\n\u001b[1;32m    157\u001b[0m             \u001b[0;32mif\u001b[0m\u001b[0;34m(\u001b[0m\u001b[0mlabel\u001b[0m \u001b[0;32min\u001b[0m \u001b[0mself\u001b[0m\u001b[0;34m.\u001b[0m\u001b[0mcategorical_indices\u001b[0m\u001b[0;34m)\u001b[0m\u001b[0;34m:\u001b[0m\u001b[0;34m\u001b[0m\u001b[0;34m\u001b[0m\u001b[0m\n\u001b[1;32m    158\u001b[0m                 \u001b[0;32mif\u001b[0m\u001b[0;34m(\u001b[0m\u001b[0mself\u001b[0m\u001b[0;34m.\u001b[0m\u001b[0mcategorical_indices\u001b[0m\u001b[0;34m[\u001b[0m\u001b[0mlabel\u001b[0m\u001b[0;34m]\u001b[0m \u001b[0;34m==\u001b[0m \u001b[0;32mTrue\u001b[0m\u001b[0;34m)\u001b[0m\u001b[0;34m:\u001b[0m\u001b[0;34m\u001b[0m\u001b[0;34m\u001b[0m\u001b[0m\n\u001b[0;32m--> 159\u001b[0;31m                     \u001b[0mencoded_data\u001b[0m \u001b[0;34m=\u001b[0m \u001b[0;34m(\u001b[0m\u001b[0mself\u001b[0m\u001b[0;34m.\u001b[0m\u001b[0mencoder\u001b[0m\u001b[0;34m[\u001b[0m\u001b[0mlabel\u001b[0m\u001b[0;34m]\u001b[0m\u001b[0;34m)\u001b[0m\u001b[0;34m.\u001b[0m\u001b[0mtransform\u001b[0m\u001b[0;34m(\u001b[0m\u001b[0mcolumn\u001b[0m\u001b[0;34m.\u001b[0m\u001b[0mastype\u001b[0m\u001b[0;34m(\u001b[0m\u001b[0;34m'str'\u001b[0m\u001b[0;34m)\u001b[0m\u001b[0;34m)\u001b[0m\u001b[0;34m\u001b[0m\u001b[0;34m\u001b[0m\u001b[0m\n\u001b[0m\u001b[1;32m    160\u001b[0m                     \u001b[0mx\u001b[0m \u001b[0;34m=\u001b[0m \u001b[0mencoded_data\u001b[0m \u001b[0;32mif\u001b[0m \u001b[0mx\u001b[0m \u001b[0;34m==\u001b[0m \u001b[0;32mNone\u001b[0m \u001b[0;32melse\u001b[0m \u001b[0mhstack\u001b[0m\u001b[0;34m(\u001b[0m\u001b[0;34m[\u001b[0m\u001b[0mx\u001b[0m\u001b[0;34m,\u001b[0m\u001b[0mencoded_data\u001b[0m\u001b[0;34m]\u001b[0m\u001b[0;34m)\u001b[0m\u001b[0;34m\u001b[0m\u001b[0;34m\u001b[0m\u001b[0m\n\u001b[1;32m    161\u001b[0m                 \u001b[0;32melse\u001b[0m\u001b[0;34m:\u001b[0m\u001b[0;34m\u001b[0m\u001b[0;34m\u001b[0m\u001b[0m\n",
      "\u001b[0;31mKeyError\u001b[0m: 'race'"
     ]
    }
   ],
   "source": [
    "from sklearn.linear_model import LogisticRegression\n",
    "from sklearn.pipeline import Pipeline,make_pipeline\n",
    "from sklearn.model_selection import train_test_split\n",
    "from sklearn.ensemble import RandomForestClassifier, GradientBoostingClassifier\n",
    "from sklearn.tree import DecisionTreeClassifier\n",
    "from sklearn.svm import SVC\n",
    "from sklearn.ensemble import AdaBoostClassifier\n",
    "def split_data(x,label):\n",
    "    X_train, X_test, y_train, y_test = train_test_split(x, label, test_size=0.20)\n",
    "    return X_train, X_test, y_train, y_test\n",
    "\n",
    "# y = (data[\"readmitted\"].astype('str')).apply(lambda x: 0 if x == \"NO\" else (1 if x == \"<30\" else 2))\n",
    "y = (data[\"readmitted\"].astype('str')).apply(lambda x: 0 if x == \"NO\" else 1)\n",
    "X_train, X_test, y_train, y_test = split_data(data,y) \n",
    "# pipeline = make_pipeline(FeatureEngineering(),AdaBoostClassifier(base_estimator=LogisticRegression(),n_estimators=300))\n",
    "lr=LogisticRegression()\n",
    "pipeline = make_pipeline(FeatureEngineering(),lr)\n",
    "pipeline.fit(X_train,y_train)\n",
    "pipeline.score(X_train,y_train)\n",
    "pipeline.score(X_test,y_test)"
   ]
  },
  {
   "cell_type": "code",
   "execution_count": 106,
   "metadata": {
    "scrolled": false
   },
   "outputs": [
    {
     "name": "stderr",
     "output_type": "stream",
     "text": [
      "/opt/anaconda3/lib/python3.7/site-packages/ipykernel_launcher.py:161: FutureWarning:\n",
      "\n",
      "DataFrame.to_sparse is deprecated and will be removed in a future version\n",
      "\n",
      "/opt/anaconda3/lib/python3.7/site-packages/ipykernel_launcher.py:161: FutureWarning:\n",
      "\n",
      "DataFrame.to_sparse is deprecated and will be removed in a future version\n",
      "\n",
      "/opt/anaconda3/lib/python3.7/site-packages/ipykernel_launcher.py:161: FutureWarning:\n",
      "\n",
      "DataFrame.to_sparse is deprecated and will be removed in a future version\n",
      "\n",
      "/opt/anaconda3/lib/python3.7/site-packages/ipykernel_launcher.py:161: FutureWarning:\n",
      "\n",
      "DataFrame.to_sparse is deprecated and will be removed in a future version\n",
      "\n",
      "/opt/anaconda3/lib/python3.7/site-packages/ipykernel_launcher.py:161: FutureWarning:\n",
      "\n",
      "DataFrame.to_sparse is deprecated and will be removed in a future version\n",
      "\n"
     ]
    },
    {
     "data": {
      "image/png": "[encoded data removed]",
      "text/plain": [
       "<Figure size 432x144 with 2 Axes>"
      ]
     },
     "metadata": {
      "needs_background": "light"
     },
     "output_type": "display_data"
    },
    {
     "name": "stdout",
     "output_type": "stream",
     "text": [
      "              precision    recall  f1-score   support\n",
      "\n",
      "           0       0.63      0.86      0.73      7977\n",
      "           1       0.58      0.29      0.39      5539\n",
      "\n",
      "    accuracy                           0.62     13516\n",
      "   macro avg       0.61      0.57      0.56     13516\n",
      "weighted avg       0.61      0.62      0.59     13516\n",
      "\n"
     ]
    },
    {
     "name": "stderr",
     "output_type": "stream",
     "text": [
      "/opt/anaconda3/lib/python3.7/site-packages/ipykernel_launcher.py:161: FutureWarning:\n",
      "\n",
      "DataFrame.to_sparse is deprecated and will be removed in a future version\n",
      "\n",
      "/opt/anaconda3/lib/python3.7/site-packages/ipykernel_launcher.py:161: FutureWarning:\n",
      "\n",
      "DataFrame.to_sparse is deprecated and will be removed in a future version\n",
      "\n",
      "/opt/anaconda3/lib/python3.7/site-packages/ipykernel_launcher.py:161: FutureWarning:\n",
      "\n",
      "DataFrame.to_sparse is deprecated and will be removed in a future version\n",
      "\n",
      "/opt/anaconda3/lib/python3.7/site-packages/ipykernel_launcher.py:161: FutureWarning:\n",
      "\n",
      "DataFrame.to_sparse is deprecated and will be removed in a future version\n",
      "\n",
      "/opt/anaconda3/lib/python3.7/site-packages/ipykernel_launcher.py:161: FutureWarning:\n",
      "\n",
      "DataFrame.to_sparse is deprecated and will be removed in a future version\n",
      "\n"
     ]
    },
    {
     "name": "stdout",
     "output_type": "stream",
     "text": [
      "Average precision-recall score: 0.55\n"
     ]
    },
    {
     "data": {
      "image/png": "[encoded data removed]",
      "text/plain": [
       "<Figure size 432x288 with 1 Axes>"
      ]
     },
     "metadata": {
      "needs_background": "light"
     },
     "output_type": "display_data"
    },
    {
     "data": {
      "image/png": "[encoded data removed]",
      "text/plain": [
       "<Figure size 432x288 with 1 Axes>"
      ]
     },
     "metadata": {
      "needs_background": "light"
     },
     "output_type": "display_data"
    }
   ],
   "source": [
    "# pipeline.score(X_train,y_train)\n",
    "generate_results(pipeline,X_test,y_test)"
   ]
  },
  {
   "cell_type": "code",
   "execution_count": 77,
   "metadata": {},
   "outputs": [
    {
     "name": "stderr",
     "output_type": "stream",
     "text": [
      "/opt/anaconda3/lib/python3.7/site-packages/ipykernel_launcher.py:161: FutureWarning:\n",
      "\n",
      "DataFrame.to_sparse is deprecated and will be removed in a future version\n",
      "\n",
      "/opt/anaconda3/lib/python3.7/site-packages/ipykernel_launcher.py:161: FutureWarning:\n",
      "\n",
      "DataFrame.to_sparse is deprecated and will be removed in a future version\n",
      "\n",
      "/opt/anaconda3/lib/python3.7/site-packages/ipykernel_launcher.py:161: FutureWarning:\n",
      "\n",
      "DataFrame.to_sparse is deprecated and will be removed in a future version\n",
      "\n",
      "/opt/anaconda3/lib/python3.7/site-packages/ipykernel_launcher.py:161: FutureWarning:\n",
      "\n",
      "DataFrame.to_sparse is deprecated and will be removed in a future version\n",
      "\n",
      "/opt/anaconda3/lib/python3.7/site-packages/ipykernel_launcher.py:161: FutureWarning:\n",
      "\n",
      "DataFrame.to_sparse is deprecated and will be removed in a future version\n",
      "\n",
      "/opt/anaconda3/lib/python3.7/site-packages/ipykernel_launcher.py:161: FutureWarning:\n",
      "\n",
      "DataFrame.to_sparse is deprecated and will be removed in a future version\n",
      "\n",
      "/opt/anaconda3/lib/python3.7/site-packages/ipykernel_launcher.py:161: FutureWarning:\n",
      "\n",
      "DataFrame.to_sparse is deprecated and will be removed in a future version\n",
      "\n",
      "/opt/anaconda3/lib/python3.7/site-packages/ipykernel_launcher.py:161: FutureWarning:\n",
      "\n",
      "DataFrame.to_sparse is deprecated and will be removed in a future version\n",
      "\n",
      "/opt/anaconda3/lib/python3.7/site-packages/ipykernel_launcher.py:161: FutureWarning:\n",
      "\n",
      "DataFrame.to_sparse is deprecated and will be removed in a future version\n",
      "\n",
      "/opt/anaconda3/lib/python3.7/site-packages/ipykernel_launcher.py:161: FutureWarning:\n",
      "\n",
      "DataFrame.to_sparse is deprecated and will be removed in a future version\n",
      "\n"
     ]
    },
    {
     "data": {
      "image/png": "[encoded data removed]",
      "text/plain": [
       "<Figure size 432x144 with 2 Axes>"
      ]
     },
     "metadata": {
      "needs_background": "light"
     },
     "output_type": "display_data"
    },
    {
     "name": "stdout",
     "output_type": "stream",
     "text": [
      "              precision    recall  f1-score   support\n",
      "\n",
      "           0       0.64      0.86      0.73     31864\n",
      "           1       0.59      0.30      0.40     22200\n",
      "\n",
      "    accuracy                           0.63     54064\n",
      "   macro avg       0.62      0.58      0.56     54064\n",
      "weighted avg       0.62      0.63      0.59     54064\n",
      "\n"
     ]
    },
    {
     "name": "stderr",
     "output_type": "stream",
     "text": [
      "/opt/anaconda3/lib/python3.7/site-packages/ipykernel_launcher.py:161: FutureWarning:\n",
      "\n",
      "DataFrame.to_sparse is deprecated and will be removed in a future version\n",
      "\n",
      "/opt/anaconda3/lib/python3.7/site-packages/ipykernel_launcher.py:161: FutureWarning:\n",
      "\n",
      "DataFrame.to_sparse is deprecated and will be removed in a future version\n",
      "\n",
      "/opt/anaconda3/lib/python3.7/site-packages/ipykernel_launcher.py:161: FutureWarning:\n",
      "\n",
      "DataFrame.to_sparse is deprecated and will be removed in a future version\n",
      "\n",
      "/opt/anaconda3/lib/python3.7/site-packages/ipykernel_launcher.py:161: FutureWarning:\n",
      "\n",
      "DataFrame.to_sparse is deprecated and will be removed in a future version\n",
      "\n",
      "/opt/anaconda3/lib/python3.7/site-packages/ipykernel_launcher.py:161: FutureWarning:\n",
      "\n",
      "DataFrame.to_sparse is deprecated and will be removed in a future version\n",
      "\n"
     ]
    },
    {
     "name": "stdout",
     "output_type": "stream",
     "text": [
      "Average precision-recall score: 0.55\n"
     ]
    },
    {
     "data": {
      "image/png": "[encoded data removed]",
      "text/plain": [
       "<Figure size 432x288 with 1 Axes>"
      ]
     },
     "metadata": {
      "needs_background": "light"
     },
     "output_type": "display_data"
    },
    {
     "data": {
      "image/png": "[encoded data removed]",
      "text/plain": [
       "<Figure size 432x288 with 1 Axes>"
      ]
     },
     "metadata": {
      "needs_background": "light"
     },
     "output_type": "display_data"
    }
   ],
   "source": [
    "pipeline.score(X_train,y_train)\n",
    "generate_results(pipeline,X_train,y_train)"
   ]
  },
  {
   "cell_type": "code",
   "execution_count": 78,
   "metadata": {},
   "outputs": [
    {
     "name": "stderr",
     "output_type": "stream",
     "text": [
      "/opt/anaconda3/lib/python3.7/site-packages/ipykernel_launcher.py:161: FutureWarning:\n",
      "\n",
      "DataFrame.to_sparse is deprecated and will be removed in a future version\n",
      "\n",
      "/opt/anaconda3/lib/python3.7/site-packages/ipykernel_launcher.py:161: FutureWarning:\n",
      "\n",
      "DataFrame.to_sparse is deprecated and will be removed in a future version\n",
      "\n",
      "/opt/anaconda3/lib/python3.7/site-packages/ipykernel_launcher.py:161: FutureWarning:\n",
      "\n",
      "DataFrame.to_sparse is deprecated and will be removed in a future version\n",
      "\n",
      "/opt/anaconda3/lib/python3.7/site-packages/ipykernel_launcher.py:161: FutureWarning:\n",
      "\n",
      "DataFrame.to_sparse is deprecated and will be removed in a future version\n",
      "\n",
      "/opt/anaconda3/lib/python3.7/site-packages/ipykernel_launcher.py:161: FutureWarning:\n",
      "\n",
      "DataFrame.to_sparse is deprecated and will be removed in a future version\n",
      "\n"
     ]
    },
    {
     "data": {
      "text/plain": [
       "0.6278669724770642"
      ]
     },
     "execution_count": 78,
     "metadata": {},
     "output_type": "execute_result"
    }
   ],
   "source": [
    "pipeline.score(X_train,y_train)"
   ]
  },
  {
   "cell_type": "code",
   "execution_count": 152,
   "metadata": {},
   "outputs": [
    {
     "data": {
      "text/html": [
       "<div>\n",
       "<style scoped>\n",
       "    .dataframe tbody tr th:only-of-type {\n",
       "        vertical-align: middle;\n",
       "    }\n",
       "\n",
       "    .dataframe tbody tr th {\n",
       "        vertical-align: top;\n",
       "    }\n",
       "\n",
       "    .dataframe thead th {\n",
       "        text-align: right;\n",
       "    }\n",
       "</style>\n",
       "<table border=\"1\" class=\"dataframe\">\n",
       "  <thead>\n",
       "    <tr style=\"text-align: right;\">\n",
       "      <th></th>\n",
       "      <th>encounter_id</th>\n",
       "      <th>patient_nbr</th>\n",
       "      <th>race</th>\n",
       "      <th>gender</th>\n",
       "      <th>age</th>\n",
       "      <th>weight</th>\n",
       "      <th>admission_type_id</th>\n",
       "      <th>discharge_disposition_id</th>\n",
       "      <th>admission_source_id</th>\n",
       "      <th>time_in_hospital</th>\n",
       "      <th>...</th>\n",
       "      <th>citoglipton</th>\n",
       "      <th>insulin</th>\n",
       "      <th>glyburide-metformin</th>\n",
       "      <th>glipizide-metformin</th>\n",
       "      <th>glimepiride-pioglitazone</th>\n",
       "      <th>metformin-rosiglitazone</th>\n",
       "      <th>metformin-pioglitazone</th>\n",
       "      <th>change</th>\n",
       "      <th>diabetesMed</th>\n",
       "      <th>readmitted</th>\n",
       "    </tr>\n",
       "  </thead>\n",
       "  <tbody>\n",
       "    <tr>\n",
       "      <th>65586</th>\n",
       "      <td>182820870</td>\n",
       "      <td>99801477</td>\n",
       "      <td>AfricanAmerican</td>\n",
       "      <td>Female</td>\n",
       "      <td>[60-70)</td>\n",
       "      <td>[50-75)</td>\n",
       "      <td>1</td>\n",
       "      <td>1</td>\n",
       "      <td>7</td>\n",
       "      <td>3</td>\n",
       "      <td>...</td>\n",
       "      <td>No</td>\n",
       "      <td>No</td>\n",
       "      <td>No</td>\n",
       "      <td>No</td>\n",
       "      <td>No</td>\n",
       "      <td>No</td>\n",
       "      <td>No</td>\n",
       "      <td>No</td>\n",
       "      <td>No</td>\n",
       "      <td>&lt;30</td>\n",
       "    </tr>\n",
       "    <tr>\n",
       "      <th>57310</th>\n",
       "      <td>163601088</td>\n",
       "      <td>81886662</td>\n",
       "      <td>Caucasian</td>\n",
       "      <td>Female</td>\n",
       "      <td>[50-60)</td>\n",
       "      <td>NaN</td>\n",
       "      <td>1</td>\n",
       "      <td>1</td>\n",
       "      <td>7</td>\n",
       "      <td>2</td>\n",
       "      <td>...</td>\n",
       "      <td>No</td>\n",
       "      <td>No</td>\n",
       "      <td>No</td>\n",
       "      <td>No</td>\n",
       "      <td>No</td>\n",
       "      <td>No</td>\n",
       "      <td>No</td>\n",
       "      <td>No</td>\n",
       "      <td>No</td>\n",
       "      <td>NO</td>\n",
       "    </tr>\n",
       "    <tr>\n",
       "      <th>71924</th>\n",
       "      <td>209345604</td>\n",
       "      <td>9849366</td>\n",
       "      <td>Caucasian</td>\n",
       "      <td>Female</td>\n",
       "      <td>[50-60)</td>\n",
       "      <td>NaN</td>\n",
       "      <td>6</td>\n",
       "      <td>1</td>\n",
       "      <td>17</td>\n",
       "      <td>2</td>\n",
       "      <td>...</td>\n",
       "      <td>No</td>\n",
       "      <td>No</td>\n",
       "      <td>No</td>\n",
       "      <td>No</td>\n",
       "      <td>No</td>\n",
       "      <td>No</td>\n",
       "      <td>No</td>\n",
       "      <td>No</td>\n",
       "      <td>Yes</td>\n",
       "      <td>NO</td>\n",
       "    </tr>\n",
       "    <tr>\n",
       "      <th>26569</th>\n",
       "      <td>87493866</td>\n",
       "      <td>2766645</td>\n",
       "      <td>Caucasian</td>\n",
       "      <td>Female</td>\n",
       "      <td>[70-80)</td>\n",
       "      <td>NaN</td>\n",
       "      <td>2</td>\n",
       "      <td>3</td>\n",
       "      <td>4</td>\n",
       "      <td>7</td>\n",
       "      <td>...</td>\n",
       "      <td>No</td>\n",
       "      <td>Steady</td>\n",
       "      <td>No</td>\n",
       "      <td>No</td>\n",
       "      <td>No</td>\n",
       "      <td>No</td>\n",
       "      <td>No</td>\n",
       "      <td>Ch</td>\n",
       "      <td>Yes</td>\n",
       "      <td>NO</td>\n",
       "    </tr>\n",
       "    <tr>\n",
       "      <th>85232</th>\n",
       "      <td>269857608</td>\n",
       "      <td>38357937</td>\n",
       "      <td>Caucasian</td>\n",
       "      <td>Female</td>\n",
       "      <td>[60-70)</td>\n",
       "      <td>NaN</td>\n",
       "      <td>1</td>\n",
       "      <td>6</td>\n",
       "      <td>7</td>\n",
       "      <td>4</td>\n",
       "      <td>...</td>\n",
       "      <td>No</td>\n",
       "      <td>Up</td>\n",
       "      <td>No</td>\n",
       "      <td>No</td>\n",
       "      <td>No</td>\n",
       "      <td>No</td>\n",
       "      <td>No</td>\n",
       "      <td>Ch</td>\n",
       "      <td>Yes</td>\n",
       "      <td>NO</td>\n",
       "    </tr>\n",
       "    <tr>\n",
       "      <th>...</th>\n",
       "      <td>...</td>\n",
       "      <td>...</td>\n",
       "      <td>...</td>\n",
       "      <td>...</td>\n",
       "      <td>...</td>\n",
       "      <td>...</td>\n",
       "      <td>...</td>\n",
       "      <td>...</td>\n",
       "      <td>...</td>\n",
       "      <td>...</td>\n",
       "      <td>...</td>\n",
       "      <td>...</td>\n",
       "      <td>...</td>\n",
       "      <td>...</td>\n",
       "      <td>...</td>\n",
       "      <td>...</td>\n",
       "      <td>...</td>\n",
       "      <td>...</td>\n",
       "      <td>...</td>\n",
       "      <td>...</td>\n",
       "      <td>...</td>\n",
       "    </tr>\n",
       "    <tr>\n",
       "      <th>20124</th>\n",
       "      <td>71161080</td>\n",
       "      <td>103011192</td>\n",
       "      <td>Caucasian</td>\n",
       "      <td>Female</td>\n",
       "      <td>[60-70)</td>\n",
       "      <td>NaN</td>\n",
       "      <td>2</td>\n",
       "      <td>1</td>\n",
       "      <td>7</td>\n",
       "      <td>2</td>\n",
       "      <td>...</td>\n",
       "      <td>No</td>\n",
       "      <td>No</td>\n",
       "      <td>No</td>\n",
       "      <td>No</td>\n",
       "      <td>No</td>\n",
       "      <td>No</td>\n",
       "      <td>No</td>\n",
       "      <td>No</td>\n",
       "      <td>No</td>\n",
       "      <td>NO</td>\n",
       "    </tr>\n",
       "    <tr>\n",
       "      <th>96253</th>\n",
       "      <td>373074998</td>\n",
       "      <td>51273126</td>\n",
       "      <td>Caucasian</td>\n",
       "      <td>Male</td>\n",
       "      <td>[60-70)</td>\n",
       "      <td>NaN</td>\n",
       "      <td>1</td>\n",
       "      <td>1</td>\n",
       "      <td>7</td>\n",
       "      <td>4</td>\n",
       "      <td>...</td>\n",
       "      <td>No</td>\n",
       "      <td>Steady</td>\n",
       "      <td>No</td>\n",
       "      <td>No</td>\n",
       "      <td>No</td>\n",
       "      <td>No</td>\n",
       "      <td>No</td>\n",
       "      <td>No</td>\n",
       "      <td>Yes</td>\n",
       "      <td>NO</td>\n",
       "    </tr>\n",
       "    <tr>\n",
       "      <th>85522</th>\n",
       "      <td>270908298</td>\n",
       "      <td>101021643</td>\n",
       "      <td>Caucasian</td>\n",
       "      <td>Female</td>\n",
       "      <td>[50-60)</td>\n",
       "      <td>NaN</td>\n",
       "      <td>3</td>\n",
       "      <td>1</td>\n",
       "      <td>1</td>\n",
       "      <td>6</td>\n",
       "      <td>...</td>\n",
       "      <td>No</td>\n",
       "      <td>Steady</td>\n",
       "      <td>No</td>\n",
       "      <td>No</td>\n",
       "      <td>No</td>\n",
       "      <td>No</td>\n",
       "      <td>No</td>\n",
       "      <td>Ch</td>\n",
       "      <td>Yes</td>\n",
       "      <td>NO</td>\n",
       "    </tr>\n",
       "    <tr>\n",
       "      <th>94669</th>\n",
       "      <td>350859194</td>\n",
       "      <td>115063191</td>\n",
       "      <td>NaN</td>\n",
       "      <td>Female</td>\n",
       "      <td>[80-90)</td>\n",
       "      <td>NaN</td>\n",
       "      <td>1</td>\n",
       "      <td>6</td>\n",
       "      <td>7</td>\n",
       "      <td>7</td>\n",
       "      <td>...</td>\n",
       "      <td>No</td>\n",
       "      <td>No</td>\n",
       "      <td>No</td>\n",
       "      <td>No</td>\n",
       "      <td>No</td>\n",
       "      <td>No</td>\n",
       "      <td>No</td>\n",
       "      <td>No</td>\n",
       "      <td>Yes</td>\n",
       "      <td>NO</td>\n",
       "    </tr>\n",
       "    <tr>\n",
       "      <th>42103</th>\n",
       "      <td>130007304</td>\n",
       "      <td>25049160</td>\n",
       "      <td>AfricanAmerican</td>\n",
       "      <td>Male</td>\n",
       "      <td>[50-60)</td>\n",
       "      <td>NaN</td>\n",
       "      <td>1</td>\n",
       "      <td>1</td>\n",
       "      <td>7</td>\n",
       "      <td>4</td>\n",
       "      <td>...</td>\n",
       "      <td>No</td>\n",
       "      <td>Steady</td>\n",
       "      <td>No</td>\n",
       "      <td>No</td>\n",
       "      <td>No</td>\n",
       "      <td>No</td>\n",
       "      <td>No</td>\n",
       "      <td>Ch</td>\n",
       "      <td>Yes</td>\n",
       "      <td>NO</td>\n",
       "    </tr>\n",
       "  </tbody>\n",
       "</table>\n",
       "<p>20354 rows × 50 columns</p>\n",
       "</div>"
      ],
      "text/plain": [
       "       encounter_id  patient_nbr             race  gender      age   weight  \\\n",
       "65586     182820870     99801477  AfricanAmerican  Female  [60-70)  [50-75)   \n",
       "57310     163601088     81886662        Caucasian  Female  [50-60)      NaN   \n",
       "71924     209345604      9849366        Caucasian  Female  [50-60)      NaN   \n",
       "26569      87493866      2766645        Caucasian  Female  [70-80)      NaN   \n",
       "85232     269857608     38357937        Caucasian  Female  [60-70)      NaN   \n",
       "...             ...          ...              ...     ...      ...      ...   \n",
       "20124      71161080    103011192        Caucasian  Female  [60-70)      NaN   \n",
       "96253     373074998     51273126        Caucasian    Male  [60-70)      NaN   \n",
       "85522     270908298    101021643        Caucasian  Female  [50-60)      NaN   \n",
       "94669     350859194    115063191              NaN  Female  [80-90)      NaN   \n",
       "42103     130007304     25049160  AfricanAmerican    Male  [50-60)      NaN   \n",
       "\n",
       "       admission_type_id  discharge_disposition_id  admission_source_id  \\\n",
       "65586                  1                         1                    7   \n",
       "57310                  1                         1                    7   \n",
       "71924                  6                         1                   17   \n",
       "26569                  2                         3                    4   \n",
       "85232                  1                         6                    7   \n",
       "...                  ...                       ...                  ...   \n",
       "20124                  2                         1                    7   \n",
       "96253                  1                         1                    7   \n",
       "85522                  3                         1                    1   \n",
       "94669                  1                         6                    7   \n",
       "42103                  1                         1                    7   \n",
       "\n",
       "       time_in_hospital  ... citoglipton insulin  glyburide-metformin  \\\n",
       "65586                 3  ...          No      No                   No   \n",
       "57310                 2  ...          No      No                   No   \n",
       "71924                 2  ...          No      No                   No   \n",
       "26569                 7  ...          No  Steady                   No   \n",
       "85232                 4  ...          No      Up                   No   \n",
       "...                 ...  ...         ...     ...                  ...   \n",
       "20124                 2  ...          No      No                   No   \n",
       "96253                 4  ...          No  Steady                   No   \n",
       "85522                 6  ...          No  Steady                   No   \n",
       "94669                 7  ...          No      No                   No   \n",
       "42103                 4  ...          No  Steady                   No   \n",
       "\n",
       "       glipizide-metformin  glimepiride-pioglitazone  metformin-rosiglitazone  \\\n",
       "65586                   No                        No                       No   \n",
       "57310                   No                        No                       No   \n",
       "71924                   No                        No                       No   \n",
       "26569                   No                        No                       No   \n",
       "85232                   No                        No                       No   \n",
       "...                    ...                       ...                      ...   \n",
       "20124                   No                        No                       No   \n",
       "96253                   No                        No                       No   \n",
       "85522                   No                        No                       No   \n",
       "94669                   No                        No                       No   \n",
       "42103                   No                        No                       No   \n",
       "\n",
       "       metformin-pioglitazone  change diabetesMed readmitted  \n",
       "65586                      No      No          No        <30  \n",
       "57310                      No      No          No         NO  \n",
       "71924                      No      No         Yes         NO  \n",
       "26569                      No      Ch         Yes         NO  \n",
       "85232                      No      Ch         Yes         NO  \n",
       "...                       ...     ...         ...        ...  \n",
       "20124                      No      No          No         NO  \n",
       "96253                      No      No         Yes         NO  \n",
       "85522                      No      Ch         Yes         NO  \n",
       "94669                      No      No         Yes         NO  \n",
       "42103                      No      Ch         Yes         NO  \n",
       "\n",
       "[20354 rows x 50 columns]"
      ]
     },
     "execution_count": 152,
     "metadata": {},
     "output_type": "execute_result"
    }
   ],
   "source": [
    "X_test"
   ]
  },
  {
   "cell_type": "code",
   "execution_count": 154,
   "metadata": {},
   "outputs": [
    {
     "name": "stderr",
     "output_type": "stream",
     "text": [
      "/opt/anaconda3/lib/python3.7/site-packages/ipykernel_launcher.py:146: FutureWarning:\n",
      "\n",
      "DataFrame.to_sparse is deprecated and will be removed in a future version\n",
      "\n",
      "/opt/anaconda3/lib/python3.7/site-packages/ipykernel_launcher.py:146: FutureWarning:\n",
      "\n",
      "DataFrame.to_sparse is deprecated and will be removed in a future version\n",
      "\n",
      "/opt/anaconda3/lib/python3.7/site-packages/ipykernel_launcher.py:146: FutureWarning:\n",
      "\n",
      "DataFrame.to_sparse is deprecated and will be removed in a future version\n",
      "\n",
      "/opt/anaconda3/lib/python3.7/site-packages/ipykernel_launcher.py:146: FutureWarning:\n",
      "\n",
      "DataFrame.to_sparse is deprecated and will be removed in a future version\n",
      "\n",
      "/opt/anaconda3/lib/python3.7/site-packages/ipykernel_launcher.py:146: FutureWarning:\n",
      "\n",
      "DataFrame.to_sparse is deprecated and will be removed in a future version\n",
      "\n"
     ]
    },
    {
     "ename": "KeyError",
     "evalue": "'race'",
     "output_type": "error",
     "traceback": [
      "\u001b[0;31m---------------------------------------------------------------------------\u001b[0m",
      "\u001b[0;31mKeyError\u001b[0m                                  Traceback (most recent call last)",
      "\u001b[0;32m<ipython-input-154-c0cb41454227>\u001b[0m in \u001b[0;36m<module>\u001b[0;34m\u001b[0m\n\u001b[1;32m      1\u001b[0m \u001b[0mf\u001b[0m\u001b[0;34m=\u001b[0m\u001b[0mFeatureEngineering\u001b[0m\u001b[0;34m(\u001b[0m\u001b[0;34m)\u001b[0m\u001b[0;34m\u001b[0m\u001b[0;34m\u001b[0m\u001b[0m\n\u001b[1;32m      2\u001b[0m \u001b[0mencoded_X_train\u001b[0m\u001b[0;34m=\u001b[0m\u001b[0mpd\u001b[0m\u001b[0;34m.\u001b[0m\u001b[0mDataFrame\u001b[0m\u001b[0;34m(\u001b[0m\u001b[0mf\u001b[0m\u001b[0;34m.\u001b[0m\u001b[0mfit\u001b[0m\u001b[0;34m(\u001b[0m\u001b[0mX_train\u001b[0m\u001b[0;34m,\u001b[0m\u001b[0my_train\u001b[0m\u001b[0;34m)\u001b[0m\u001b[0;34m)\u001b[0m\u001b[0;34m\u001b[0m\u001b[0;34m\u001b[0m\u001b[0m\n\u001b[0;32m----> 3\u001b[0;31m \u001b[0mencoded_X_test\u001b[0m\u001b[0;34m=\u001b[0m\u001b[0mpd\u001b[0m\u001b[0;34m.\u001b[0m\u001b[0mDataFrame\u001b[0m\u001b[0;34m(\u001b[0m\u001b[0mf\u001b[0m\u001b[0;34m.\u001b[0m\u001b[0mtransform\u001b[0m\u001b[0;34m(\u001b[0m\u001b[0mX_test\u001b[0m\u001b[0;34m)\u001b[0m\u001b[0;34m)\u001b[0m\u001b[0;34m\u001b[0m\u001b[0;34m\u001b[0m\u001b[0m\n\u001b[0m\u001b[1;32m      4\u001b[0m \u001b[0mprint\u001b[0m\u001b[0;34m(\u001b[0m\u001b[0mencoded_X_train\u001b[0m\u001b[0;34m.\u001b[0m\u001b[0mshape\u001b[0m\u001b[0;34m,\u001b[0m\u001b[0mencoded_X_test\u001b[0m\u001b[0;34m.\u001b[0m\u001b[0mshape\u001b[0m\u001b[0;34m)\u001b[0m\u001b[0;34m\u001b[0m\u001b[0;34m\u001b[0m\u001b[0m\n",
      "\u001b[0;32m<ipython-input-123-928f61c45105>\u001b[0m in \u001b[0;36mtransform\u001b[0;34m(self, data)\u001b[0m\n\u001b[1;32m    157\u001b[0m             \u001b[0;32mif\u001b[0m\u001b[0;34m(\u001b[0m\u001b[0mlabel\u001b[0m \u001b[0;32min\u001b[0m \u001b[0mself\u001b[0m\u001b[0;34m.\u001b[0m\u001b[0mcategorical_indices\u001b[0m\u001b[0;34m)\u001b[0m\u001b[0;34m:\u001b[0m\u001b[0;34m\u001b[0m\u001b[0;34m\u001b[0m\u001b[0m\n\u001b[1;32m    158\u001b[0m                 \u001b[0;32mif\u001b[0m\u001b[0;34m(\u001b[0m\u001b[0mself\u001b[0m\u001b[0;34m.\u001b[0m\u001b[0mcategorical_indices\u001b[0m\u001b[0;34m[\u001b[0m\u001b[0mlabel\u001b[0m\u001b[0;34m]\u001b[0m \u001b[0;34m==\u001b[0m \u001b[0;32mTrue\u001b[0m\u001b[0;34m)\u001b[0m\u001b[0;34m:\u001b[0m\u001b[0;34m\u001b[0m\u001b[0;34m\u001b[0m\u001b[0m\n\u001b[0;32m--> 159\u001b[0;31m                     \u001b[0mencoded_data\u001b[0m \u001b[0;34m=\u001b[0m \u001b[0;34m(\u001b[0m\u001b[0mself\u001b[0m\u001b[0;34m.\u001b[0m\u001b[0mencoder\u001b[0m\u001b[0;34m[\u001b[0m\u001b[0mlabel\u001b[0m\u001b[0;34m]\u001b[0m\u001b[0;34m)\u001b[0m\u001b[0;34m.\u001b[0m\u001b[0mtransform\u001b[0m\u001b[0;34m(\u001b[0m\u001b[0mcolumn\u001b[0m\u001b[0;34m.\u001b[0m\u001b[0mastype\u001b[0m\u001b[0;34m(\u001b[0m\u001b[0;34m'str'\u001b[0m\u001b[0;34m)\u001b[0m\u001b[0;34m)\u001b[0m\u001b[0;34m\u001b[0m\u001b[0;34m\u001b[0m\u001b[0m\n\u001b[0m\u001b[1;32m    160\u001b[0m                     \u001b[0mx\u001b[0m \u001b[0;34m=\u001b[0m \u001b[0mencoded_data\u001b[0m \u001b[0;32mif\u001b[0m \u001b[0mx\u001b[0m \u001b[0;34m==\u001b[0m \u001b[0;32mNone\u001b[0m \u001b[0;32melse\u001b[0m \u001b[0mhstack\u001b[0m\u001b[0;34m(\u001b[0m\u001b[0;34m[\u001b[0m\u001b[0mx\u001b[0m\u001b[0;34m,\u001b[0m\u001b[0mencoded_data\u001b[0m\u001b[0;34m]\u001b[0m\u001b[0;34m)\u001b[0m\u001b[0;34m\u001b[0m\u001b[0;34m\u001b[0m\u001b[0m\n\u001b[1;32m    161\u001b[0m                 \u001b[0;32melse\u001b[0m\u001b[0;34m:\u001b[0m\u001b[0;34m\u001b[0m\u001b[0;34m\u001b[0m\u001b[0m\n",
      "\u001b[0;31mKeyError\u001b[0m: 'race'"
     ]
    }
   ],
   "source": [
    "f=FeatureEngineering()\n",
    "encoded_X_train=pd.DataFrame(f.fit_transform(X_train,y_train))\n",
    "encoded_X_test=pd.DataFrame(f.transform(X_test))\n",
    "print(encoded_X_train.shape,encoded_X_test.shape)"
   ]
  },
  {
   "cell_type": "code",
   "execution_count": 136,
   "metadata": {},
   "outputs": [
    {
     "name": "stdout",
     "output_type": "stream",
     "text": [
      "(81412, 445) (81412, 50)\n"
     ]
    }
   ],
   "source": [
    "print(encoded_X_train.shape,X_train.shape)\n",
    "#encoded_X_train.columns.values"
   ]
  },
  {
   "cell_type": "code",
   "execution_count": 141,
   "metadata": {},
   "outputs": [],
   "source": [
    "#Lime\n",
    "import lime\n",
    "import lime.lime_tabular\n",
    "\n",
    "explainer = lime.lime_tabular.LimeTabularExplainer(encoded_X_train.values,\n",
    "feature_names=encoded_X_train.columns.values.tolist(),\n",
    "class_names=y_train.unique(),\n",
    "categorical_features=categorical_features,\n",
    "verbose=True, mode='classification')\n",
    "# exp.show_in_notebook(show_table=True)\n"
   ]
  },
  {
   "cell_type": "code",
   "execution_count": 149,
   "metadata": {},
   "outputs": [
    {
     "ename": "IndexError",
     "evalue": "index 409 is out of bounds for axis 0 with size 409",
     "output_type": "error",
     "traceback": [
      "\u001b[0;31m---------------------------------------------------------------------------\u001b[0m",
      "\u001b[0;31mIndexError\u001b[0m                                Traceback (most recent call last)",
      "\u001b[0;32m<ipython-input-149-c0569ab93a94>\u001b[0m in \u001b[0;36m<module>\u001b[0;34m\u001b[0m\n\u001b[0;32m----> 1\u001b[0;31m \u001b[0mexp\u001b[0m \u001b[0;34m=\u001b[0m \u001b[0mexplainer\u001b[0m\u001b[0;34m.\u001b[0m\u001b[0mexplain_instance\u001b[0m\u001b[0;34m(\u001b[0m\u001b[0mencoded_X_test\u001b[0m\u001b[0;34m.\u001b[0m\u001b[0mvalues\u001b[0m\u001b[0;34m[\u001b[0m\u001b[0;36m0\u001b[0m\u001b[0;34m]\u001b[0m\u001b[0;34m,\u001b[0m\u001b[0mlr\u001b[0m\u001b[0;34m.\u001b[0m\u001b[0mpredict_proba\u001b[0m\u001b[0;34m,\u001b[0m\u001b[0mnum_features\u001b[0m\u001b[0;34m=\u001b[0m\u001b[0mencoded_X_test\u001b[0m\u001b[0;34m.\u001b[0m\u001b[0mshape\u001b[0m\u001b[0;34m[\u001b[0m\u001b[0;36m1\u001b[0m\u001b[0;34m]\u001b[0m\u001b[0;34m)\u001b[0m\u001b[0;34m\u001b[0m\u001b[0;34m\u001b[0m\u001b[0m\n\u001b[0m\u001b[1;32m      2\u001b[0m \u001b[0mexp\u001b[0m\u001b[0;34m.\u001b[0m\u001b[0mshow_in_notebook\u001b[0m\u001b[0;34m(\u001b[0m\u001b[0mshow_table\u001b[0m\u001b[0;34m=\u001b[0m\u001b[0;32mTrue\u001b[0m\u001b[0;34m)\u001b[0m\u001b[0;34m\u001b[0m\u001b[0;34m\u001b[0m\u001b[0m\n",
      "\u001b[0;32m/opt/anaconda3/lib/python3.7/site-packages/lime/lime_tabular.py\u001b[0m in \u001b[0;36mexplain_instance\u001b[0;34m(self, data_row, predict_fn, labels, top_labels, num_features, num_samples, distance_metric, model_regressor)\u001b[0m\n\u001b[1;32m    335\u001b[0m             \u001b[0;31m# Preventative code: if sparse, convert to csr format if not in csr format already\u001b[0m\u001b[0;34m\u001b[0m\u001b[0;34m\u001b[0m\u001b[0;34m\u001b[0m\u001b[0m\n\u001b[1;32m    336\u001b[0m             \u001b[0mdata_row\u001b[0m \u001b[0;34m=\u001b[0m \u001b[0mdata_row\u001b[0m\u001b[0;34m.\u001b[0m\u001b[0mtocsr\u001b[0m\u001b[0;34m(\u001b[0m\u001b[0;34m)\u001b[0m\u001b[0;34m\u001b[0m\u001b[0;34m\u001b[0m\u001b[0m\n\u001b[0;32m--> 337\u001b[0;31m         \u001b[0mdata\u001b[0m\u001b[0;34m,\u001b[0m \u001b[0minverse\u001b[0m \u001b[0;34m=\u001b[0m \u001b[0mself\u001b[0m\u001b[0;34m.\u001b[0m\u001b[0m__data_inverse\u001b[0m\u001b[0;34m(\u001b[0m\u001b[0mdata_row\u001b[0m\u001b[0;34m,\u001b[0m \u001b[0mnum_samples\u001b[0m\u001b[0;34m)\u001b[0m\u001b[0;34m\u001b[0m\u001b[0;34m\u001b[0m\u001b[0m\n\u001b[0m\u001b[1;32m    338\u001b[0m         \u001b[0;32mif\u001b[0m \u001b[0msp\u001b[0m\u001b[0;34m.\u001b[0m\u001b[0msparse\u001b[0m\u001b[0;34m.\u001b[0m\u001b[0missparse\u001b[0m\u001b[0;34m(\u001b[0m\u001b[0mdata\u001b[0m\u001b[0;34m)\u001b[0m\u001b[0;34m:\u001b[0m\u001b[0;34m\u001b[0m\u001b[0;34m\u001b[0m\u001b[0m\n\u001b[1;32m    339\u001b[0m             \u001b[0;31m# Note in sparse case we don't subtract mean since data would become dense\u001b[0m\u001b[0;34m\u001b[0m\u001b[0;34m\u001b[0m\u001b[0;34m\u001b[0m\u001b[0m\n",
      "\u001b[0;32m/opt/anaconda3/lib/python3.7/site-packages/lime/lime_tabular.py\u001b[0m in \u001b[0;36m__data_inverse\u001b[0;34m(self, data_row, num_samples)\u001b[0m\n\u001b[1;32m    530\u001b[0m             \u001b[0mfirst_row\u001b[0m \u001b[0;34m=\u001b[0m \u001b[0mdata_row\u001b[0m\u001b[0;34m\u001b[0m\u001b[0;34m\u001b[0m\u001b[0m\n\u001b[1;32m    531\u001b[0m         \u001b[0;32melse\u001b[0m\u001b[0;34m:\u001b[0m\u001b[0;34m\u001b[0m\u001b[0;34m\u001b[0m\u001b[0m\n\u001b[0;32m--> 532\u001b[0;31m             \u001b[0mfirst_row\u001b[0m \u001b[0;34m=\u001b[0m \u001b[0mself\u001b[0m\u001b[0;34m.\u001b[0m\u001b[0mdiscretizer\u001b[0m\u001b[0;34m.\u001b[0m\u001b[0mdiscretize\u001b[0m\u001b[0;34m(\u001b[0m\u001b[0mdata_row\u001b[0m\u001b[0;34m)\u001b[0m\u001b[0;34m\u001b[0m\u001b[0;34m\u001b[0m\u001b[0m\n\u001b[0m\u001b[1;32m    533\u001b[0m         \u001b[0mdata\u001b[0m\u001b[0;34m[\u001b[0m\u001b[0;36m0\u001b[0m\u001b[0;34m]\u001b[0m \u001b[0;34m=\u001b[0m \u001b[0mdata_row\u001b[0m\u001b[0;34m.\u001b[0m\u001b[0mcopy\u001b[0m\u001b[0;34m(\u001b[0m\u001b[0;34m)\u001b[0m\u001b[0;34m\u001b[0m\u001b[0;34m\u001b[0m\u001b[0m\n\u001b[1;32m    534\u001b[0m         \u001b[0minverse\u001b[0m \u001b[0;34m=\u001b[0m \u001b[0mdata\u001b[0m\u001b[0;34m.\u001b[0m\u001b[0mcopy\u001b[0m\u001b[0;34m(\u001b[0m\u001b[0;34m)\u001b[0m\u001b[0;34m\u001b[0m\u001b[0;34m\u001b[0m\u001b[0m\n",
      "\u001b[0;32m/opt/anaconda3/lib/python3.7/site-packages/lime/discretize.py\u001b[0m in \u001b[0;36mdiscretize\u001b[0;34m(self, data)\u001b[0m\n\u001b[1;32m    118\u001b[0m         \u001b[0;32mfor\u001b[0m \u001b[0mfeature\u001b[0m \u001b[0;32min\u001b[0m \u001b[0mself\u001b[0m\u001b[0;34m.\u001b[0m\u001b[0mlambdas\u001b[0m\u001b[0;34m:\u001b[0m\u001b[0;34m\u001b[0m\u001b[0;34m\u001b[0m\u001b[0m\n\u001b[1;32m    119\u001b[0m             \u001b[0;32mif\u001b[0m \u001b[0mlen\u001b[0m\u001b[0;34m(\u001b[0m\u001b[0mdata\u001b[0m\u001b[0;34m.\u001b[0m\u001b[0mshape\u001b[0m\u001b[0;34m)\u001b[0m \u001b[0;34m==\u001b[0m \u001b[0;36m1\u001b[0m\u001b[0;34m:\u001b[0m\u001b[0;34m\u001b[0m\u001b[0;34m\u001b[0m\u001b[0m\n\u001b[0;32m--> 120\u001b[0;31m                 \u001b[0mret\u001b[0m\u001b[0;34m[\u001b[0m\u001b[0mfeature\u001b[0m\u001b[0;34m]\u001b[0m \u001b[0;34m=\u001b[0m \u001b[0mint\u001b[0m\u001b[0;34m(\u001b[0m\u001b[0mself\u001b[0m\u001b[0;34m.\u001b[0m\u001b[0mlambdas\u001b[0m\u001b[0;34m[\u001b[0m\u001b[0mfeature\u001b[0m\u001b[0;34m]\u001b[0m\u001b[0;34m(\u001b[0m\u001b[0mret\u001b[0m\u001b[0;34m[\u001b[0m\u001b[0mfeature\u001b[0m\u001b[0;34m]\u001b[0m\u001b[0;34m)\u001b[0m\u001b[0;34m)\u001b[0m\u001b[0;34m\u001b[0m\u001b[0;34m\u001b[0m\u001b[0m\n\u001b[0m\u001b[1;32m    121\u001b[0m             \u001b[0;32melse\u001b[0m\u001b[0;34m:\u001b[0m\u001b[0;34m\u001b[0m\u001b[0;34m\u001b[0m\u001b[0m\n\u001b[1;32m    122\u001b[0m                 ret[:, feature] = self.lambdas[feature](\n",
      "\u001b[0;31mIndexError\u001b[0m: index 409 is out of bounds for axis 0 with size 409"
     ]
    }
   ],
   "source": [
    "exp = explainer.explain_instance(encoded_X_test.values[0],lr.predict_proba,num_features=encoded_X_train.shape[1])\n",
    "exp.show_in_notebook(show_table=True)"
   ]
  },
  {
   "cell_type": "code",
   "execution_count": null,
   "metadata": {},
   "outputs": [],
   "source": []
  }
 ],
 "metadata": {
  "kernelspec": {
   "display_name": "Python 3",
   "language": "python",
   "name": "python3"
  },
  "language_info": {
   "codemirror_mode": {
    "name": "ipython",
    "version": 3
   },
   "file_extension": ".py",
   "mimetype": "text/x-python",
   "name": "python",
   "nbconvert_exporter": "python",
   "pygments_lexer": "ipython3",
   "version": "3.7.4"
  }
 },
 "nbformat": 4,
 "nbformat_minor": 2
}
